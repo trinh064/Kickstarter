{
 "cells": [
  {
   "cell_type": "markdown",
   "metadata": {},
   "source": [
    "### Notes:\n",
    "* Decision trees can perform poorly if there are too many irrelevant values. Feature selection can help to improve accuracy by eliminating these featues. "
   ]
  },
  {
   "cell_type": "code",
   "execution_count": 122,
   "metadata": {},
   "outputs": [],
   "source": [
    "# Importing libraries\n",
    "# we don't like warnings; you can comment the following 2 lines if you'd like to\n",
    "import warnings\n",
    "warnings.filterwarnings('ignore')\n",
    "import numpy as np\n",
    "import pandas as pd\n",
    "import seaborn as sns; sns.set()\n",
    "from matplotlib import pyplot as plt\n",
    "%config InlineBackend.figure_format = 'retina'\n",
    "\n",
    "from sklearn.metrics import precision_score, \\\n",
    "    recall_score, confusion_matrix, classification_report, \\\n",
    "    accuracy_score, f1_score"
   ]
  },
  {
   "cell_type": "code",
   "execution_count": 2,
   "metadata": {},
   "outputs": [],
   "source": [
    "# Importing data\n",
    "df_ks = pd.read_csv(\"../Data/Cleaned/joined_data.csv\")"
   ]
  },
  {
   "cell_type": "code",
   "execution_count": 3,
   "metadata": {},
   "outputs": [
    {
     "data": {
      "text/html": [
       "<div>\n",
       "<style scoped>\n",
       "    .dataframe tbody tr th:only-of-type {\n",
       "        vertical-align: middle;\n",
       "    }\n",
       "\n",
       "    .dataframe tbody tr th {\n",
       "        vertical-align: top;\n",
       "    }\n",
       "\n",
       "    .dataframe thead th {\n",
       "        text-align: right;\n",
       "    }\n",
       "</style>\n",
       "<table border=\"1\" class=\"dataframe\">\n",
       "  <thead>\n",
       "    <tr style=\"text-align: right;\">\n",
       "      <th></th>\n",
       "      <th>backers_count</th>\n",
       "      <th>blurb</th>\n",
       "      <th>blurb_length</th>\n",
       "      <th>spotlight</th>\n",
       "      <th>staff_pick</th>\n",
       "      <th>location_state</th>\n",
       "      <th>name</th>\n",
       "      <th>category</th>\n",
       "      <th>main_category</th>\n",
       "      <th>deadline</th>\n",
       "      <th>...</th>\n",
       "      <th>usd_goal_real</th>\n",
       "      <th>hours_since_last_project</th>\n",
       "      <th>launch_hour</th>\n",
       "      <th>launch_day</th>\n",
       "      <th>launch_month</th>\n",
       "      <th>launch_year</th>\n",
       "      <th>deadline_day</th>\n",
       "      <th>deadline_month</th>\n",
       "      <th>deadline_year</th>\n",
       "      <th>duration_days</th>\n",
       "    </tr>\n",
       "  </thead>\n",
       "  <tbody>\n",
       "    <tr>\n",
       "      <th>0</th>\n",
       "      <td>4</td>\n",
       "      <td>Raising money to help my grandmother recover f...</td>\n",
       "      <td>24</td>\n",
       "      <td>False</td>\n",
       "      <td>False</td>\n",
       "      <td>OH</td>\n",
       "      <td>Grandma's are Life</td>\n",
       "      <td>World Music</td>\n",
       "      <td>Music</td>\n",
       "      <td>2016-11-18</td>\n",
       "      <td>...</td>\n",
       "      <td>15000.00</td>\n",
       "      <td>66.078889</td>\n",
       "      <td>15</td>\n",
       "      <td>19</td>\n",
       "      <td>10</td>\n",
       "      <td>2016</td>\n",
       "      <td>18</td>\n",
       "      <td>11</td>\n",
       "      <td>2016</td>\n",
       "      <td>30</td>\n",
       "    </tr>\n",
       "    <tr>\n",
       "      <th>1</th>\n",
       "      <td>11</td>\n",
       "      <td>My work is performance based but I branch out ...</td>\n",
       "      <td>24</td>\n",
       "      <td>True</td>\n",
       "      <td>False</td>\n",
       "      <td>Scotland</td>\n",
       "      <td>Meta</td>\n",
       "      <td>Performance Art</td>\n",
       "      <td>Art</td>\n",
       "      <td>2015-05-06</td>\n",
       "      <td>...</td>\n",
       "      <td>231.20</td>\n",
       "      <td>29.557500</td>\n",
       "      <td>0</td>\n",
       "      <td>8</td>\n",
       "      <td>4</td>\n",
       "      <td>2015</td>\n",
       "      <td>6</td>\n",
       "      <td>5</td>\n",
       "      <td>2015</td>\n",
       "      <td>28</td>\n",
       "    </tr>\n",
       "    <tr>\n",
       "      <th>2</th>\n",
       "      <td>18</td>\n",
       "      <td>A sanctuary for humans and felines alike! Come...</td>\n",
       "      <td>24</td>\n",
       "      <td>False</td>\n",
       "      <td>False</td>\n",
       "      <td>IL</td>\n",
       "      <td>Puss N' Books: A relaxing cat cafe and bookstore.</td>\n",
       "      <td>Spaces</td>\n",
       "      <td>Food</td>\n",
       "      <td>2015-11-26</td>\n",
       "      <td>...</td>\n",
       "      <td>20000.00</td>\n",
       "      <td>113.248611</td>\n",
       "      <td>16</td>\n",
       "      <td>27</td>\n",
       "      <td>10</td>\n",
       "      <td>2015</td>\n",
       "      <td>26</td>\n",
       "      <td>11</td>\n",
       "      <td>2015</td>\n",
       "      <td>30</td>\n",
       "    </tr>\n",
       "    <tr>\n",
       "      <th>3</th>\n",
       "      <td>42</td>\n",
       "      <td>Taste Makers is a socially conscious brand tha...</td>\n",
       "      <td>23</td>\n",
       "      <td>False</td>\n",
       "      <td>True</td>\n",
       "      <td>BC</td>\n",
       "      <td>TASTE MAKERS BY TRISH P</td>\n",
       "      <td>Ready-to-wear</td>\n",
       "      <td>Fashion</td>\n",
       "      <td>2015-07-30</td>\n",
       "      <td>...</td>\n",
       "      <td>13795.22</td>\n",
       "      <td>2.419444</td>\n",
       "      <td>20</td>\n",
       "      <td>15</td>\n",
       "      <td>6</td>\n",
       "      <td>2015</td>\n",
       "      <td>30</td>\n",
       "      <td>7</td>\n",
       "      <td>2015</td>\n",
       "      <td>45</td>\n",
       "    </tr>\n",
       "    <tr>\n",
       "      <th>4</th>\n",
       "      <td>68</td>\n",
       "      <td>The BEST beef sticks, beef jerky and signature...</td>\n",
       "      <td>13</td>\n",
       "      <td>True</td>\n",
       "      <td>False</td>\n",
       "      <td>WI</td>\n",
       "      <td>The Meat Candy Experience</td>\n",
       "      <td>Small Batch</td>\n",
       "      <td>Food</td>\n",
       "      <td>2016-07-01</td>\n",
       "      <td>...</td>\n",
       "      <td>2500.00</td>\n",
       "      <td>3.911389</td>\n",
       "      <td>0</td>\n",
       "      <td>17</td>\n",
       "      <td>5</td>\n",
       "      <td>2016</td>\n",
       "      <td>1</td>\n",
       "      <td>7</td>\n",
       "      <td>2016</td>\n",
       "      <td>45</td>\n",
       "    </tr>\n",
       "  </tbody>\n",
       "</table>\n",
       "<p>5 rows × 24 columns</p>\n",
       "</div>"
      ],
      "text/plain": [
       "   backers_count                                              blurb  \\\n",
       "0              4  Raising money to help my grandmother recover f...   \n",
       "1             11  My work is performance based but I branch out ...   \n",
       "2             18  A sanctuary for humans and felines alike! Come...   \n",
       "3             42  Taste Makers is a socially conscious brand tha...   \n",
       "4             68  The BEST beef sticks, beef jerky and signature...   \n",
       "\n",
       "   blurb_length  spotlight  staff_pick location_state  \\\n",
       "0            24      False       False             OH   \n",
       "1            24       True       False       Scotland   \n",
       "2            24      False       False             IL   \n",
       "3            23      False        True             BC   \n",
       "4            13       True       False             WI   \n",
       "\n",
       "                                                name         category  \\\n",
       "0                                 Grandma's are Life      World Music   \n",
       "1                                               Meta  Performance Art   \n",
       "2  Puss N' Books: A relaxing cat cafe and bookstore.           Spaces   \n",
       "3                            TASTE MAKERS BY TRISH P    Ready-to-wear   \n",
       "4                          The Meat Candy Experience      Small Batch   \n",
       "\n",
       "  main_category    deadline  ... usd_goal_real  hours_since_last_project  \\\n",
       "0         Music  2016-11-18  ...      15000.00                 66.078889   \n",
       "1           Art  2015-05-06  ...        231.20                 29.557500   \n",
       "2          Food  2015-11-26  ...      20000.00                113.248611   \n",
       "3       Fashion  2015-07-30  ...      13795.22                  2.419444   \n",
       "4          Food  2016-07-01  ...       2500.00                  3.911389   \n",
       "\n",
       "  launch_hour  launch_day  launch_month  launch_year  deadline_day  \\\n",
       "0          15          19            10         2016            18   \n",
       "1           0           8             4         2015             6   \n",
       "2          16          27            10         2015            26   \n",
       "3          20          15             6         2015            30   \n",
       "4           0          17             5         2016             1   \n",
       "\n",
       "   deadline_month  deadline_year  duration_days  \n",
       "0              11           2016             30  \n",
       "1               5           2015             28  \n",
       "2              11           2015             30  \n",
       "3               7           2015             45  \n",
       "4               7           2016             45  \n",
       "\n",
       "[5 rows x 24 columns]"
      ]
     },
     "execution_count": 3,
     "metadata": {},
     "output_type": "execute_result"
    }
   ],
   "source": [
    "df_ks.head()"
   ]
  },
  {
   "cell_type": "code",
   "execution_count": 4,
   "metadata": {},
   "outputs": [],
   "source": [
    "# Change category value: Children's Books --> childrens books\n",
    "df_ks['category'] = df_ks['category'].replace(['Children\\'s Books'], 'childrens books')"
   ]
  },
  {
   "cell_type": "code",
   "execution_count": 6,
   "metadata": {},
   "outputs": [
    {
     "data": {
      "text/html": [
       "<div>\n",
       "<style scoped>\n",
       "    .dataframe tbody tr th:only-of-type {\n",
       "        vertical-align: middle;\n",
       "    }\n",
       "\n",
       "    .dataframe tbody tr th {\n",
       "        vertical-align: top;\n",
       "    }\n",
       "\n",
       "    .dataframe thead th {\n",
       "        text-align: right;\n",
       "    }\n",
       "</style>\n",
       "<table border=\"1\" class=\"dataframe\">\n",
       "  <thead>\n",
       "    <tr style=\"text-align: right;\">\n",
       "      <th></th>\n",
       "      <th>backers_count</th>\n",
       "      <th>blurb</th>\n",
       "      <th>blurb_length</th>\n",
       "      <th>spotlight</th>\n",
       "      <th>staff_pick</th>\n",
       "      <th>location_state</th>\n",
       "      <th>name</th>\n",
       "      <th>category</th>\n",
       "      <th>main_category</th>\n",
       "      <th>state</th>\n",
       "      <th>...</th>\n",
       "      <th>usd_pledged_real</th>\n",
       "      <th>usd_goal_real</th>\n",
       "      <th>launch_hour</th>\n",
       "      <th>launch_day</th>\n",
       "      <th>launch_month</th>\n",
       "      <th>launch_year</th>\n",
       "      <th>deadline_day</th>\n",
       "      <th>deadline_month</th>\n",
       "      <th>deadline_year</th>\n",
       "      <th>duration_days</th>\n",
       "    </tr>\n",
       "  </thead>\n",
       "  <tbody>\n",
       "    <tr>\n",
       "      <th>21</th>\n",
       "      <td>84</td>\n",
       "      <td>Astronauts onboard the space station are readi...</td>\n",
       "      <td>18</td>\n",
       "      <td>False</td>\n",
       "      <td>True</td>\n",
       "      <td>TX</td>\n",
       "      <td>Story Time From Space</td>\n",
       "      <td>childrens books</td>\n",
       "      <td>Publishing</td>\n",
       "      <td>0.0</td>\n",
       "      <td>...</td>\n",
       "      <td>5547.00</td>\n",
       "      <td>35000.00</td>\n",
       "      <td>19</td>\n",
       "      <td>7</td>\n",
       "      <td>5</td>\n",
       "      <td>2014</td>\n",
       "      <td>6</td>\n",
       "      <td>7</td>\n",
       "      <td>2014</td>\n",
       "      <td>60</td>\n",
       "    </tr>\n",
       "    <tr>\n",
       "      <th>122</th>\n",
       "      <td>4</td>\n",
       "      <td>Pronounced /erÉ™ pÄ« mÉ™/. Did someone say pie?</td>\n",
       "      <td>8</td>\n",
       "      <td>False</td>\n",
       "      <td>False</td>\n",
       "      <td>OR</td>\n",
       "      <td>Arie the Arapaima and His Marvelous Adventure ...</td>\n",
       "      <td>childrens books</td>\n",
       "      <td>Publishing</td>\n",
       "      <td>0.0</td>\n",
       "      <td>...</td>\n",
       "      <td>303.00</td>\n",
       "      <td>2900.00</td>\n",
       "      <td>19</td>\n",
       "      <td>8</td>\n",
       "      <td>5</td>\n",
       "      <td>2017</td>\n",
       "      <td>7</td>\n",
       "      <td>6</td>\n",
       "      <td>2017</td>\n",
       "      <td>30</td>\n",
       "    </tr>\n",
       "    <tr>\n",
       "      <th>153</th>\n",
       "      <td>374</td>\n",
       "      <td>Heartwarming tale of one familyâ€™s cherished ...</td>\n",
       "      <td>20</td>\n",
       "      <td>True</td>\n",
       "      <td>False</td>\n",
       "      <td>IL</td>\n",
       "      <td>Oliver the Ornament</td>\n",
       "      <td>childrens books</td>\n",
       "      <td>Publishing</td>\n",
       "      <td>1.0</td>\n",
       "      <td>...</td>\n",
       "      <td>52885.00</td>\n",
       "      <td>50000.00</td>\n",
       "      <td>14</td>\n",
       "      <td>13</td>\n",
       "      <td>7</td>\n",
       "      <td>2015</td>\n",
       "      <td>22</td>\n",
       "      <td>8</td>\n",
       "      <td>2015</td>\n",
       "      <td>40</td>\n",
       "    </tr>\n",
       "    <tr>\n",
       "      <th>190</th>\n",
       "      <td>98</td>\n",
       "      <td>Teaching young kids about materials, starting ...</td>\n",
       "      <td>24</td>\n",
       "      <td>True</td>\n",
       "      <td>False</td>\n",
       "      <td>CA</td>\n",
       "      <td>A children's book about a little guy made of f...</td>\n",
       "      <td>childrens books</td>\n",
       "      <td>Publishing</td>\n",
       "      <td>1.0</td>\n",
       "      <td>...</td>\n",
       "      <td>10508.00</td>\n",
       "      <td>10000.00</td>\n",
       "      <td>17</td>\n",
       "      <td>20</td>\n",
       "      <td>10</td>\n",
       "      <td>2015</td>\n",
       "      <td>19</td>\n",
       "      <td>11</td>\n",
       "      <td>2015</td>\n",
       "      <td>30</td>\n",
       "    </tr>\n",
       "    <tr>\n",
       "      <th>245</th>\n",
       "      <td>26</td>\n",
       "      <td>It's bedtime but one of Hayley's favourite toy...</td>\n",
       "      <td>16</td>\n",
       "      <td>True</td>\n",
       "      <td>False</td>\n",
       "      <td>AB</td>\n",
       "      <td>Hayley's Favourite Toys</td>\n",
       "      <td>childrens books</td>\n",
       "      <td>Publishing</td>\n",
       "      <td>1.0</td>\n",
       "      <td>...</td>\n",
       "      <td>646.71</td>\n",
       "      <td>520.25</td>\n",
       "      <td>17</td>\n",
       "      <td>13</td>\n",
       "      <td>10</td>\n",
       "      <td>2017</td>\n",
       "      <td>20</td>\n",
       "      <td>10</td>\n",
       "      <td>2017</td>\n",
       "      <td>7</td>\n",
       "    </tr>\n",
       "  </tbody>\n",
       "</table>\n",
       "<p>5 rows × 21 columns</p>\n",
       "</div>"
      ],
      "text/plain": [
       "     backers_count                                              blurb  \\\n",
       "21              84  Astronauts onboard the space station are readi...   \n",
       "122              4    Pronounced /erÉ™ pÄ« mÉ™/. Did someone say pie?   \n",
       "153            374  Heartwarming tale of one familyâ€™s cherished ...   \n",
       "190             98  Teaching young kids about materials, starting ...   \n",
       "245             26  It's bedtime but one of Hayley's favourite toy...   \n",
       "\n",
       "     blurb_length  spotlight  staff_pick location_state  \\\n",
       "21             18      False        True             TX   \n",
       "122             8      False       False             OR   \n",
       "153            20       True       False             IL   \n",
       "190            24       True       False             CA   \n",
       "245            16       True       False             AB   \n",
       "\n",
       "                                                  name         category  \\\n",
       "21                               Story Time From Space  childrens books   \n",
       "122  Arie the Arapaima and His Marvelous Adventure ...  childrens books   \n",
       "153                                Oliver the Ornament  childrens books   \n",
       "190  A children's book about a little guy made of f...  childrens books   \n",
       "245                            Hayley's Favourite Toys  childrens books   \n",
       "\n",
       "    main_category  state  ... usd_pledged_real  usd_goal_real  launch_hour  \\\n",
       "21     Publishing    0.0  ...          5547.00       35000.00           19   \n",
       "122    Publishing    0.0  ...           303.00        2900.00           19   \n",
       "153    Publishing    1.0  ...         52885.00       50000.00           14   \n",
       "190    Publishing    1.0  ...         10508.00       10000.00           17   \n",
       "245    Publishing    1.0  ...           646.71         520.25           17   \n",
       "\n",
       "     launch_day  launch_month  launch_year  deadline_day  deadline_month  \\\n",
       "21            7             5         2014             6               7   \n",
       "122           8             5         2017             7               6   \n",
       "153          13             7         2015            22               8   \n",
       "190          20            10         2015            19              11   \n",
       "245          13            10         2017            20              10   \n",
       "\n",
       "     deadline_year  duration_days  \n",
       "21            2014             60  \n",
       "122           2017             30  \n",
       "153           2015             40  \n",
       "190           2015             30  \n",
       "245           2017              7  \n",
       "\n",
       "[5 rows x 21 columns]"
      ]
     },
     "execution_count": 6,
     "metadata": {},
     "output_type": "execute_result"
    }
   ],
   "source": [
    "df_ks[df_ks['category']=='childrens books'].head()"
   ]
  },
  {
   "cell_type": "code",
   "execution_count": 5,
   "metadata": {},
   "outputs": [
    {
     "data": {
      "text/plain": [
       "0.0    124115\n",
       "1.0    118515\n",
       "Name: state, dtype: int64"
      ]
     },
     "execution_count": 5,
     "metadata": {},
     "output_type": "execute_result"
    }
   ],
   "source": [
    "df_ks['state'].value_counts()"
   ]
  },
  {
   "cell_type": "markdown",
   "metadata": {},
   "source": [
    "# Decision Trees"
   ]
  },
  {
   "cell_type": "code",
   "execution_count": 6,
   "metadata": {},
   "outputs": [],
   "source": [
    "# Trying out Model off the shelf\n",
    "from sklearn.tree import DecisionTreeClassifier\n",
    "\n",
    "from sklearn.model_selection import train_test_split\n",
    "from sklearn.model_selection import cross_val_score\n",
    "from sklearn.model_selection import StratifiedKFold\n",
    "from sklearn.model_selection import cross_validate\n",
    "from sklearn.metrics import accuracy_score"
   ]
  },
  {
   "cell_type": "code",
   "execution_count": 34,
   "metadata": {},
   "outputs": [],
   "source": [
    "# Initial model selection process\n",
    "models = []\n",
    "models.append(('DT', DecisionTreeClassifier()))"
   ]
  },
  {
   "cell_type": "markdown",
   "metadata": {},
   "source": [
    "## Encoding Categorical Data"
   ]
  },
  {
   "cell_type": "markdown",
   "metadata": {},
   "source": [
    "* Need to do Encode the categorical data\n",
    "* Don't want to use LabelEncoder as we don't want to treat the nominal data as non-nominal\n",
    "* Have to use One-Hot Encoding -- however, it does increase the #of features by a lot\n",
    "* It may be worth removing some of the less popular types"
   ]
  },
  {
   "cell_type": "code",
   "execution_count": 8,
   "metadata": {},
   "outputs": [],
   "source": [
    "# Encoding Category\n",
    "df_ks = pd.get_dummies(df_ks, columns=['category'], prefix=['category'])"
   ]
  },
  {
   "cell_type": "code",
   "execution_count": 9,
   "metadata": {},
   "outputs": [],
   "source": [
    "# Encoding Main_Category -- This is redundant, so remove if slow\n",
    "df_ks = pd.get_dummies(df_ks, columns=['main_category'], prefix=['main_category'])"
   ]
  },
  {
   "cell_type": "code",
   "execution_count": 10,
   "metadata": {},
   "outputs": [],
   "source": [
    "# Encoding location_state\n",
    "df_ks = pd.get_dummies(df_ks, columns=['location_state'], prefix=['loc_state'])"
   ]
  },
  {
   "cell_type": "code",
   "execution_count": 11,
   "metadata": {},
   "outputs": [],
   "source": [
    "# Encoding country\n",
    "df_ks = pd.get_dummies(df_ks, columns=['country'], prefix=['country'])"
   ]
  },
  {
   "cell_type": "code",
   "execution_count": 12,
   "metadata": {},
   "outputs": [],
   "source": [
    "# Remove Text-based Description\n",
    "df_ks = df_ks.drop(columns=['blurb','name'])"
   ]
  },
  {
   "cell_type": "markdown",
   "metadata": {},
   "source": [
    "## Baseline Decision Tree 1 -- On all Features (Including Trivial) "
   ]
  },
  {
   "cell_type": "code",
   "execution_count": 14,
   "metadata": {},
   "outputs": [],
   "source": [
    "# Looking at all features (except for text, and self-generated)\n",
    "feature_names = df_ks.drop(columns=['state','duration_days']).columns\n",
    "X = df_ks[feature_names]\n",
    "y = df_ks.state"
   ]
  },
  {
   "cell_type": "code",
   "execution_count": 15,
   "metadata": {},
   "outputs": [],
   "source": [
    "# Train/Test split\n",
    "X_train, X_test, y_train, y_test = train_test_split(X, y, stratify = df_ks.state, random_state=42)"
   ]
  },
  {
   "cell_type": "code",
   "execution_count": 16,
   "metadata": {},
   "outputs": [
    {
     "name": "stdout",
     "output_type": "stream",
     "text": [
      "  Name     Score\n",
      "0   DT  0.999192\n"
     ]
    }
   ],
   "source": [
    "# Trying the decision tree\n",
    "names = []\n",
    "scores = []\n",
    "\n",
    "for name, model in models:\n",
    "    model.fit(X_train, y_train)\n",
    "    y_pred = model.predict(X_test)\n",
    "    scores.append(accuracy_score(y_test, y_pred))\n",
    "    names.append(name)\n",
    "\n",
    "tr_split = pd.DataFrame({'Name': names, 'Score': scores})\n",
    "print(tr_split)"
   ]
  },
  {
   "cell_type": "markdown",
   "metadata": {},
   "source": [
    "### *Likely due to the categorical variables, I couldn't do a cross-validation run*"
   ]
  },
  {
   "cell_type": "markdown",
   "metadata": {},
   "source": [
    "## Baseline Decision Tree 2 -- Hand Picked\n",
    "Note we choose interesting and non-trivial "
   ]
  },
  {
   "cell_type": "code",
   "execution_count": 17,
   "metadata": {},
   "outputs": [],
   "source": [
    "# Dropping Un-interesting Features or generated\n",
    "feature_names = df_ks.drop(columns=['state','backers_count','spotlight','staff_pick','usd_pledged_real','duration_days','launched','deadline']).columns\n",
    "X = df_ks[feature_names]\n",
    "y = df_ks.state"
   ]
  },
  {
   "cell_type": "code",
   "execution_count": 18,
   "metadata": {},
   "outputs": [],
   "source": [
    "# Train/Test split\n",
    "X_train, X_test, y_train, y_test = train_test_split(X, y, stratify = df_ks.state, random_state=42)"
   ]
  },
  {
   "cell_type": "code",
   "execution_count": 124,
   "metadata": {},
   "outputs": [
    {
     "name": "stdout",
     "output_type": "stream",
     "text": [
      "0.6458505061162584\n",
      "0.6358875137605497\n",
      "0.6433561713186405\n",
      "0.6396000402644029\n",
      "  Name     Score\n",
      "0   DT  0.645851\n"
     ]
    }
   ],
   "source": [
    "# Trying the decision tree\n",
    "names = []\n",
    "scores = []\n",
    "\n",
    "for name, model in models:\n",
    "    model.fit(X_train, y_train)\n",
    "    y_pred = model.predict(X_test)\n",
    "    scores.append(accuracy_score(y_test, y_pred))\n",
    "    print(accuracy_score(y_test, y_pred))\n",
    "    print(precision_score(y_test, y_pred))\n",
    "    print(recall_score(y_test, y_pred))\n",
    "    print(f1_score(y_test, y_pred))\n",
    "    names.append(name)\n",
    "\n",
    "tr_split = pd.DataFrame({'Name': names, 'Score': scores})\n",
    "print(tr_split)"
   ]
  },
  {
   "cell_type": "code",
   "execution_count": 36,
   "metadata": {},
   "outputs": [
    {
     "name": "stdout",
     "output_type": "stream",
     "text": [
      "  Name     Score\n",
      "0   DT  0.677286\n"
     ]
    }
   ],
   "source": [
    "strat_k_fold = StratifiedKFold(n_splits=5, random_state=42, shuffle=True)\n",
    "#strat_k_fold = StratifiedKFold(n_splits=10, random_state=10)\n",
    "\n",
    "names = []\n",
    "scores = []\n",
    "\n",
    "for name, model in models:\n",
    "    \n",
    "    accuracy = cross_val_score(model, X, y, cv=strat_k_fold, scoring='accuracy').mean()\n",
    "    \n",
    "    names.append(name)\n",
    "    scores.append(accuracy)\n",
    "\n",
    "kf_cross_val = pd.DataFrame({'Name': names, 'Score': scores})\n",
    "print(kf_cross_val)"
   ]
  },
  {
   "cell_type": "code",
   "execution_count": 37,
   "metadata": {},
   "outputs": [
    {
     "name": "stdout",
     "output_type": "stream",
     "text": [
      "  Name                                              Score\n",
      "0   DT  {'fit_time': [37.424882888793945, 37.812394380...\n"
     ]
    }
   ],
   "source": [
    "strat_k_fold = StratifiedKFold(n_splits=5, random_state=42, shuffle=True)\n",
    "#strat_k_fold = StratifiedKFold(n_splits=10, random_state=10)\n",
    "\n",
    "names = []\n",
    "scores = []\n",
    "scorings = ['accuracy','precision','recall','f1']\n",
    "\n",
    "for name, model in models:\n",
    "    \n",
    "    score = cross_validate(model, X, y, cv=strat_k_fold, scoring=scorings)\n",
    "    \n",
    "    names.append(name)\n",
    "    scores.append(score)\n",
    "\n",
    "kf_cross_val = pd.DataFrame({'Name': names, 'Score': scores})\n",
    "print(kf_cross_val)"
   ]
  },
  {
   "cell_type": "code",
   "execution_count": 38,
   "metadata": {},
   "outputs": [
    {
     "data": {
      "text/plain": [
       "0.6777644973828463"
      ]
     },
     "execution_count": 38,
     "metadata": {},
     "output_type": "execute_result"
    }
   ],
   "source": [
    "scores[0]['test_accuracy'].mean()"
   ]
  },
  {
   "cell_type": "code",
   "execution_count": 39,
   "metadata": {},
   "outputs": [
    {
     "data": {
      "text/plain": [
       "0.6710316026686652"
      ]
     },
     "execution_count": 39,
     "metadata": {},
     "output_type": "execute_result"
    }
   ],
   "source": [
    "scores[0]['test_precision'].mean()"
   ]
  },
  {
   "cell_type": "code",
   "execution_count": 40,
   "metadata": {},
   "outputs": [
    {
     "data": {
      "text/plain": [
       "0.6675863814706999"
      ]
     },
     "execution_count": 40,
     "metadata": {},
     "output_type": "execute_result"
    }
   ],
   "source": [
    "scores[0]['test_recall'].mean()"
   ]
  },
  {
   "cell_type": "code",
   "execution_count": 41,
   "metadata": {},
   "outputs": [
    {
     "data": {
      "text/plain": [
       "0.6693032035805991"
      ]
     },
     "execution_count": 41,
     "metadata": {},
     "output_type": "execute_result"
    }
   ],
   "source": [
    "scores[0]['test_f1'].mean()"
   ]
  },
  {
   "cell_type": "code",
   "execution_count": 44,
   "metadata": {},
   "outputs": [
    {
     "name": "stdout",
     "output_type": "stream",
     "text": [
      "fit_time  :)  [32.33754945 34.37948513 33.76241851 33.36511397 33.24326229]\n",
      "score_time  :)  [0.49799705 0.51598883 0.41903496 0.41240621 0.51055026]\n",
      "test_accuracy  :)  [0.67701851 0.67720397 0.67959444 0.68239707 0.67765734]\n",
      "test_precision  :)  [0.66928072 0.67116638 0.67369542 0.67639675 0.67018537]\n",
      "test_recall  :)  [0.66970426 0.66493693 0.66721512 0.67063241 0.66961988]\n",
      "test_f1  :)  [0.66949242 0.66803713 0.67043961 0.67350225 0.6699025 ]\n"
     ]
    }
   ],
   "source": [
    "for key, value in scores[0].items():\n",
    "    print(key, ' :) ', value)"
   ]
  },
  {
   "cell_type": "markdown",
   "metadata": {},
   "source": [
    "## Testing Top N Important Features"
   ]
  },
  {
   "cell_type": "markdown",
   "metadata": {},
   "source": [
    "1. count_7_days\n",
    "2. usd_goal_real\n",
    "3. optimism\n",
    "4. launch_day\n",
    "5. deadline_day\n",
    "6. blurb_length\n",
    "7. duration_days\n",
    "8. launch month\n",
    "9. deadline month\n",
    "10. hours_since_last_project\n",
    "11. categories"
   ]
  },
  {
   "cell_type": "code",
   "execution_count": 71,
   "metadata": {},
   "outputs": [],
   "source": [
    "# Importing data\n",
    "df = pd.read_csv(\"../Data/Cleaned/latest_data.csv\")"
   ]
  },
  {
   "cell_type": "code",
   "execution_count": 72,
   "metadata": {},
   "outputs": [],
   "source": [
    "cleanup_nums = {\"country\": {\"NonUS\": 0, \"US\": 1}}\n",
    "df.replace(cleanup_nums, inplace=True)"
   ]
  },
  {
   "cell_type": "code",
   "execution_count": 51,
   "metadata": {},
   "outputs": [],
   "source": [
    "# Encoding Category -- already encoded in latest data\n",
    "# df = pd.get_dummies(df, columns=['category'], prefix=['category'])"
   ]
  },
  {
   "cell_type": "code",
   "execution_count": 112,
   "metadata": {},
   "outputs": [],
   "source": [
    "# Keeping Top 10 Features\n",
    "#feature_names = ['usd_goal_real', 'count_7_days', 'optimism', 'hours_since_last_project', 'duration_days', 'launch_day', 'deadline_day', 'blurb_length', 'launch_month', 'deadline_month']\n",
    "                 \n",
    "# Keeping only Top 20 Features listed above\n",
    "feature_names = ['usd_goal_real', 'count_7_days', 'optimism', 'hours_since_last_project', 'duration_days', 'launch_day', 'deadline_day', 'blurb_length', 'launch_month', 'deadline_month', 'launch_year', 'deadline_year', 'category_Tabletop Games', 'category_Shorts', 'category_Documentary', 'category_Product Design', 'category_Fiction', 'category_Food', 'country', 'category_Apps']\n",
    "\n",
    "# Top 30 features\n",
    "feature_names = ['usd_goal_real', 'count_7_days', 'optimism', 'hours_since_last_project', 'duration_days', 'launch_day', 'deadline_day', 'blurb_length', 'launch_month', 'deadline_month', 'launch_year', 'deadline_year', 'category_Tabletop Games', 'category_Shorts', 'category_Documentary', 'category_Product Design', 'category_Fiction', 'category_Food', 'country', 'category_Apps', 'category_Theater', 'location_state_NY', 'category_Video Games', 'category_Comics', 'category_Web', 'category_Nonfiction', 'category_Fashion', 'category_Hip-Hop', 'category_Photography', \"category_Children's Books\"]"
   ]
  },
  {
   "cell_type": "code",
   "execution_count": 113,
   "metadata": {},
   "outputs": [],
   "source": [
    "X = df[feature_names]\n",
    "y = df.state"
   ]
  },
  {
   "cell_type": "code",
   "execution_count": 114,
   "metadata": {},
   "outputs": [],
   "source": [
    "# Train/Test split\n",
    "X_train, X_test, y_train, y_test = train_test_split(X, y, stratify = df.state, random_state=42)"
   ]
  },
  {
   "cell_type": "code",
   "execution_count": 115,
   "metadata": {},
   "outputs": [
    {
     "name": "stdout",
     "output_type": "stream",
     "text": [
      "  Name     Score\n",
      "0   DT  0.647417\n"
     ]
    }
   ],
   "source": [
    "# Trying the decision tree\n",
    "names = []\n",
    "scores = []\n",
    "\n",
    "for name, model in models:\n",
    "    model.fit(X_train, y_train)\n",
    "    y_pred = model.predict(X_test)\n",
    "    scores.append(accuracy_score(y_test, y_pred))\n",
    "    names.append(name)\n",
    "\n",
    "tr_split = pd.DataFrame({'Name': names, 'Score': scores})\n",
    "print(tr_split)"
   ]
  },
  {
   "cell_type": "code",
   "execution_count": 116,
   "metadata": {},
   "outputs": [
    {
     "name": "stdout",
     "output_type": "stream",
     "text": [
      "  Name                                              Score\n",
      "0   DT  {'fit_time': [5.612142562866211, 6.59948778152...\n"
     ]
    }
   ],
   "source": [
    "strat_k_fold = StratifiedKFold(n_splits=5, random_state=42, shuffle=True)\n",
    "#strat_k_fold = StratifiedKFold(n_splits=10, random_state=10)\n",
    "\n",
    "names = []\n",
    "scores = []\n",
    "scorings = ['accuracy','precision','recall','f1']\n",
    "\n",
    "for name, model in models:\n",
    "    \n",
    "    score = cross_validate(model, X, y, cv=strat_k_fold, scoring=scorings)\n",
    "    \n",
    "    names.append(name)\n",
    "    scores.append(score)\n",
    "\n",
    "kf_cross_val = pd.DataFrame({'Name': names, 'Score': scores})\n",
    "print(kf_cross_val)"
   ]
  },
  {
   "cell_type": "code",
   "execution_count": 117,
   "metadata": {},
   "outputs": [
    {
     "data": {
      "text/plain": [
       "0.6434694802786136"
      ]
     },
     "execution_count": 117,
     "metadata": {},
     "output_type": "execute_result"
    }
   ],
   "source": [
    "scores[0]['test_accuracy'].mean()"
   ]
  },
  {
   "cell_type": "code",
   "execution_count": 118,
   "metadata": {},
   "outputs": [
    {
     "data": {
      "text/plain": [
       "0.6338383852904752"
      ]
     },
     "execution_count": 118,
     "metadata": {},
     "output_type": "execute_result"
    }
   ],
   "source": [
    "scores[0]['test_precision'].mean()"
   ]
  },
  {
   "cell_type": "code",
   "execution_count": 119,
   "metadata": {},
   "outputs": [
    {
     "data": {
      "text/plain": [
       "0.6395899253259081"
      ]
     },
     "execution_count": 119,
     "metadata": {},
     "output_type": "execute_result"
    }
   ],
   "source": [
    "scores[0]['test_recall'].mean()"
   ]
  },
  {
   "cell_type": "code",
   "execution_count": 120,
   "metadata": {},
   "outputs": [
    {
     "data": {
      "text/plain": [
       "0.6366991192437561"
      ]
     },
     "execution_count": 120,
     "metadata": {},
     "output_type": "execute_result"
    }
   ],
   "source": [
    "scores[0]['test_f1'].mean()"
   ]
  },
  {
   "cell_type": "code",
   "execution_count": null,
   "metadata": {},
   "outputs": [],
   "source": []
  }
 ],
 "metadata": {
  "kernelspec": {
   "display_name": "Python 3",
   "language": "python",
   "name": "python3"
  },
  "language_info": {
   "codemirror_mode": {
    "name": "ipython",
    "version": 3
   },
   "file_extension": ".py",
   "mimetype": "text/x-python",
   "name": "python",
   "nbconvert_exporter": "python",
   "pygments_lexer": "ipython3",
   "version": "3.8.3"
  }
 },
 "nbformat": 4,
 "nbformat_minor": 4
}
