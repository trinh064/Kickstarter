{
 "cells": [
  {
   "cell_type": "code",
   "execution_count": 39,
   "metadata": {},
   "outputs": [],
   "source": [
    "import numpy as np\n",
    "import pandas as pd\n",
    "import random"
   ]
  },
  {
   "cell_type": "code",
   "execution_count": 40,
   "metadata": {},
   "outputs": [],
   "source": [
    "# Importing data\n",
    "df_ks = pd.read_csv(\"../Data/Cleaned/joined_data.csv\")"
   ]
  },
  {
   "cell_type": "code",
   "execution_count": 41,
   "metadata": {},
   "outputs": [
    {
     "name": "stdout",
     "output_type": "stream",
     "text": [
      "<class 'pandas.core.frame.DataFrame'>\n",
      "RangeIndex: 242630 entries, 0 to 242629\n",
      "Data columns (total 21 columns):\n",
      " #   Column            Non-Null Count   Dtype  \n",
      "---  ------            --------------   -----  \n",
      " 0   backers_count     242630 non-null  int64  \n",
      " 1   blurb             242630 non-null  object \n",
      " 2   blurb_length      242630 non-null  int64  \n",
      " 3   spotlight         242630 non-null  bool   \n",
      " 4   staff_pick        242630 non-null  bool   \n",
      " 5   location_state    242630 non-null  object \n",
      " 6   name              242630 non-null  object \n",
      " 7   category          242630 non-null  object \n",
      " 8   main_category     242630 non-null  object \n",
      " 9   state             242630 non-null  float64\n",
      " 10  country           242630 non-null  object \n",
      " 11  usd_pledged_real  242630 non-null  float64\n",
      " 12  usd_goal_real     242630 non-null  float64\n",
      " 13  launch_hour       242630 non-null  int64  \n",
      " 14  launch_day        242630 non-null  int64  \n",
      " 15  launch_month      242630 non-null  int64  \n",
      " 16  launch_year       242630 non-null  int64  \n",
      " 17  deadline_day      242630 non-null  int64  \n",
      " 18  deadline_month    242630 non-null  int64  \n",
      " 19  deadline_year     242630 non-null  int64  \n",
      " 20  duration_days     242630 non-null  int64  \n",
      "dtypes: bool(2), float64(3), int64(10), object(6)\n",
      "memory usage: 35.6+ MB\n"
     ]
    }
   ],
   "source": [
    "df_ks.info()"
   ]
  },
  {
   "cell_type": "code",
   "execution_count": 35,
   "metadata": {},
   "outputs": [],
   "source": [
    "from sklearn.feature_selection import SelectKBest, f_classif"
   ]
  },
  {
   "cell_type": "code",
   "execution_count": 36,
   "metadata": {},
   "outputs": [],
   "source": [
    "# encode categorical features (location_state, main_category, country)\n",
    "df_ks = pd.get_dummies(df_ks, columns=['main_category'], prefix=['maincat_'])\n",
    "df_ks = pd.get_dummies(df_ks, columns=['location_state'], prefix=['loc_state_'])\n",
    "df_ks = pd.get_dummies(df_ks, columns=['country'], prefix=['country_'])"
   ]
  },
  {
   "cell_type": "markdown",
   "metadata": {},
   "source": [
    "#### Note on Columns to Drop\n",
    "* For now, dropping category and only looking at 'main_category'\n",
    "    * Add in 'category' if the run time doesn't slow down too much\n",
    "\n",
    "* Drop unique description features ('name' and 'blurb') which cannot be encoded\n",
    "\n",
    "* Maybe drop features such as hour???"
   ]
  },
  {
   "cell_type": "code",
   "execution_count": 37,
   "metadata": {},
   "outputs": [],
   "source": [
    "feature_cols = df_ks.columns.drop(['state', 'blurb', 'name', 'category'])"
   ]
  },
  {
   "cell_type": "code",
   "execution_count": null,
   "metadata": {},
   "outputs": [],
   "source": [
    "# Split into training and testing"
   ]
  },
  {
   "cell_type": "markdown",
   "metadata": {},
   "source": [
    "## Correlation"
   ]
  },
  {
   "cell_type": "code",
   "execution_count": null,
   "metadata": {},
   "outputs": [],
   "source": [
    "# Keep 5 features\n",
    "selector = SelectKBest(f_classif, k=5)\n",
    "\n",
    "X_new = selector.fit_transform(df_ks[feature_cols], df_ks['state'])\n",
    "X_new"
   ]
  },
  {
   "cell_type": "markdown",
   "metadata": {},
   "source": [
    "## Chi-Squared"
   ]
  },
  {
   "cell_type": "code",
   "execution_count": null,
   "metadata": {},
   "outputs": [],
   "source": []
  },
  {
   "cell_type": "code",
   "execution_count": null,
   "metadata": {},
   "outputs": [],
   "source": []
  }
 ],
 "metadata": {
  "kernelspec": {
   "display_name": "Python 3",
   "language": "python",
   "name": "python3"
  },
  "language_info": {
   "codemirror_mode": {
    "name": "ipython",
    "version": 3
   },
   "file_extension": ".py",
   "mimetype": "text/x-python",
   "name": "python",
   "nbconvert_exporter": "python",
   "pygments_lexer": "ipython3",
   "version": "3.8.3"
  }
 },
 "nbformat": 4,
 "nbformat_minor": 4
}
