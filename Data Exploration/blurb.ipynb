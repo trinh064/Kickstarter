{
 "cells": [
  {
   "cell_type": "code",
   "execution_count": 1,
   "metadata": {},
   "outputs": [],
   "source": [
    "import numpy as np\n",
    "import pandas as pd\n",
    "import random\n",
    "import re\n",
    "import matplotlib.pyplot as plt\n",
    "\n",
    "%matplotlib qt\n"
   ]
  },
  {
   "cell_type": "code",
   "execution_count": 2,
   "metadata": {},
   "outputs": [],
   "source": [
    "df = pd.read_csv(\"../Data/Cleaned/from_kickstarter_reduced.csv\")"
   ]
  },
  {
   "cell_type": "code",
   "execution_count": 3,
   "metadata": {},
   "outputs": [
    {
     "data": {
      "text/html": [
       "<div>\n",
       "<style scoped>\n",
       "    .dataframe tbody tr th:only-of-type {\n",
       "        vertical-align: middle;\n",
       "    }\n",
       "\n",
       "    .dataframe tbody tr th {\n",
       "        vertical-align: top;\n",
       "    }\n",
       "\n",
       "    .dataframe thead th {\n",
       "        text-align: right;\n",
       "    }\n",
       "</style>\n",
       "<table border=\"1\" class=\"dataframe\">\n",
       "  <thead>\n",
       "    <tr style=\"text-align: right;\">\n",
       "      <th></th>\n",
       "      <th>blurb</th>\n",
       "      <th>binary_state</th>\n",
       "    </tr>\n",
       "  </thead>\n",
       "  <tbody>\n",
       "    <tr>\n",
       "      <th>0</th>\n",
       "      <td>Local, Delicious food themed from around the g...</td>\n",
       "      <td>0</td>\n",
       "    </tr>\n",
       "    <tr>\n",
       "      <th>1</th>\n",
       "      <td>Drawing life is aiming to set up a workspace f...</td>\n",
       "      <td>0</td>\n",
       "    </tr>\n",
       "    <tr>\n",
       "      <th>2</th>\n",
       "      <td>Hello everyone, I'm Anastasia Humphrey. If you...</td>\n",
       "      <td>0</td>\n",
       "    </tr>\n",
       "    <tr>\n",
       "      <th>3</th>\n",
       "      <td>A gruesome underground graphic novel that slic...</td>\n",
       "      <td>0</td>\n",
       "    </tr>\n",
       "    <tr>\n",
       "      <th>4</th>\n",
       "      <td>An all-day festival with exhibits, competition...</td>\n",
       "      <td>0</td>\n",
       "    </tr>\n",
       "  </tbody>\n",
       "</table>\n",
       "</div>"
      ],
      "text/plain": [
       "                                               blurb  binary_state\n",
       "0  Local, Delicious food themed from around the g...             0\n",
       "1  Drawing life is aiming to set up a workspace f...             0\n",
       "2  Hello everyone, I'm Anastasia Humphrey. If you...             0\n",
       "3  A gruesome underground graphic novel that slic...             0\n",
       "4  An all-day festival with exhibits, competition...             0"
      ]
     },
     "execution_count": 3,
     "metadata": {},
     "output_type": "execute_result"
    }
   ],
   "source": [
    "df=df[[\"blurb\",\"binary_state\"]]\n",
    "df=df[:8000]\n",
    "df.head()"
   ]
  },
  {
   "cell_type": "code",
   "execution_count": 4,
   "metadata": {},
   "outputs": [
    {
     "data": {
      "text/html": [
       "<div>\n",
       "<style scoped>\n",
       "    .dataframe tbody tr th:only-of-type {\n",
       "        vertical-align: middle;\n",
       "    }\n",
       "\n",
       "    .dataframe tbody tr th {\n",
       "        vertical-align: top;\n",
       "    }\n",
       "\n",
       "    .dataframe thead th {\n",
       "        text-align: right;\n",
       "    }\n",
       "</style>\n",
       "<table border=\"1\" class=\"dataframe\">\n",
       "  <thead>\n",
       "    <tr style=\"text-align: right;\">\n",
       "      <th></th>\n",
       "      <th>blurb</th>\n",
       "      <th>binary_state</th>\n",
       "    </tr>\n",
       "  </thead>\n",
       "  <tbody>\n",
       "    <tr>\n",
       "      <th>0</th>\n",
       "      <td>local delicious food themed from around the gl...</td>\n",
       "      <td>0</td>\n",
       "    </tr>\n",
       "    <tr>\n",
       "      <th>1</th>\n",
       "      <td>drawing life is aiming to set up a workspace f...</td>\n",
       "      <td>0</td>\n",
       "    </tr>\n",
       "    <tr>\n",
       "      <th>2</th>\n",
       "      <td>hello everyone im anastasia humphrey if you de...</td>\n",
       "      <td>0</td>\n",
       "    </tr>\n",
       "    <tr>\n",
       "      <th>3</th>\n",
       "      <td>a gruesome underground graphic novel that slic...</td>\n",
       "      <td>0</td>\n",
       "    </tr>\n",
       "    <tr>\n",
       "      <th>4</th>\n",
       "      <td>an allday festival with exhibits competitions ...</td>\n",
       "      <td>0</td>\n",
       "    </tr>\n",
       "  </tbody>\n",
       "</table>\n",
       "</div>"
      ],
      "text/plain": [
       "                                               blurb  binary_state\n",
       "0  local delicious food themed from around the gl...             0\n",
       "1  drawing life is aiming to set up a workspace f...             0\n",
       "2  hello everyone im anastasia humphrey if you de...             0\n",
       "3  a gruesome underground graphic novel that slic...             0\n",
       "4  an allday festival with exhibits competitions ...             0"
      ]
     },
     "execution_count": 4,
     "metadata": {},
     "output_type": "execute_result"
    }
   ],
   "source": [
    "def lower_case(input_str):\n",
    "    input_str = input_str.lower()\n",
    "    return input_str\n",
    "\n",
    "df['blurb'] = df['blurb'].apply(lambda x: re.sub('[^a-zA-z0-9\\s]','',x))\n",
    "df['blurb'] = df['blurb'].apply(lambda x: lower_case(x))\n",
    "df.head()"
   ]
  },
  {
   "cell_type": "code",
   "execution_count": 5,
   "metadata": {},
   "outputs": [],
   "source": [
    "text=df.drop(['binary_state'],axis=1)\n",
    "text_arr = text.stack().tolist()\n"
   ]
  },
  {
   "cell_type": "code",
   "execution_count": 6,
   "metadata": {},
   "outputs": [],
   "source": [
    "words = []\n",
    "\n",
    "for ii in range(0,len(text)):\n",
    "    words.append(str(text.iloc[ii]['blurb']).split(\" \"))\n"
   ]
  },
  {
   "cell_type": "code",
   "execution_count": 7,
   "metadata": {},
   "outputs": [
    {
     "data": {
      "text/plain": [
       "((152247, 1),\n",
       " 0    20542\n",
       " dtype: int64)"
      ]
     },
     "execution_count": 7,
     "metadata": {},
     "output_type": "execute_result"
    }
   ],
   "source": [
    "ctext=[]\n",
    "for s in words:\n",
    "    ctext+=s\n",
    "ctext_df=pd.DataFrame(ctext)\n",
    "ctext_df.shape,ctext_df.nunique()"
   ]
  },
  {
   "cell_type": "code",
   "execution_count": 8,
   "metadata": {},
   "outputs": [],
   "source": [
    "from sklearn.preprocessing import LabelEncoder\n",
    "from sklearn.preprocessing import OneHotEncoder\n",
    "ctext = np.array(ctext)\n",
    "# integer encode\n",
    "label_encoder = LabelEncoder()\n",
    "integer_encoded = label_encoder.fit_transform(ctext)\n",
    "map=pd.DataFrame([ctext,integer_encoded])\n",
    "\n",
    "    \n",
    "#text.head()\n",
    "#print(map)\n",
    "# binary encode"
   ]
  },
  {
   "cell_type": "code",
   "execution_count": 9,
   "metadata": {},
   "outputs": [
    {
     "data": {
      "text/plain": [
       "(2, 152247)"
      ]
     },
     "execution_count": 9,
     "metadata": {},
     "output_type": "execute_result"
    }
   ],
   "source": [
    "map.shape"
   ]
  },
  {
   "cell_type": "code",
   "execution_count": 10,
   "metadata": {},
   "outputs": [
    {
     "data": {
      "text/html": [
       "<div>\n",
       "<style scoped>\n",
       "    .dataframe tbody tr th:only-of-type {\n",
       "        vertical-align: middle;\n",
       "    }\n",
       "\n",
       "    .dataframe tbody tr th {\n",
       "        vertical-align: top;\n",
       "    }\n",
       "\n",
       "    .dataframe thead th {\n",
       "        text-align: right;\n",
       "    }\n",
       "</style>\n",
       "<table border=\"1\" class=\"dataframe\">\n",
       "  <thead>\n",
       "    <tr style=\"text-align: right;\">\n",
       "      <th></th>\n",
       "      <th>local</th>\n",
       "      <th>delicious</th>\n",
       "      <th>food</th>\n",
       "      <th>themed</th>\n",
       "      <th>from</th>\n",
       "      <th>around</th>\n",
       "      <th>the</th>\n",
       "      <th>globe</th>\n",
       "      <th></th>\n",
       "      <th>family</th>\n",
       "      <th>...</th>\n",
       "      <th></th>\n",
       "      <th>studio</th>\n",
       "      <th>space</th>\n",
       "      <th>for</th>\n",
       "      <th>artists</th>\n",
       "      <th></th>\n",
       "      <th>wholesale</th>\n",
       "      <th>and</th>\n",
       "      <th>retail</th>\n",
       "      <th>ceramics</th>\n",
       "    </tr>\n",
       "  </thead>\n",
       "  <tbody>\n",
       "    <tr>\n",
       "      <th>1</th>\n",
       "      <td>10941</td>\n",
       "      <td>5149</td>\n",
       "      <td>7430</td>\n",
       "      <td>18318</td>\n",
       "      <td>7651</td>\n",
       "      <td>1599</td>\n",
       "      <td>18302</td>\n",
       "      <td>8068</td>\n",
       "      <td>0</td>\n",
       "      <td>6943</td>\n",
       "      <td>...</td>\n",
       "      <td>0</td>\n",
       "      <td>17653</td>\n",
       "      <td>17177</td>\n",
       "      <td>7453</td>\n",
       "      <td>1652</td>\n",
       "      <td>0</td>\n",
       "      <td>20050</td>\n",
       "      <td>1302</td>\n",
       "      <td>15437</td>\n",
       "      <td>3461</td>\n",
       "    </tr>\n",
       "  </tbody>\n",
       "</table>\n",
       "<p>1 rows × 152247 columns</p>\n",
       "</div>"
      ],
      "text/plain": [
       "0  local delicious  food themed  from around    the globe    family  ...     \\\n",
       "1  10941      5149  7430  18318  7651   1599  18302  8068  0   6943  ...  0   \n",
       "\n",
       "0 studio  space   for artists    wholesale   and retail ceramics  \n",
       "1  17653  17177  7453    1652  0     20050  1302  15437     3461  \n",
       "\n",
       "[1 rows x 152247 columns]"
      ]
     },
     "execution_count": 10,
     "metadata": {},
     "output_type": "execute_result"
    }
   ],
   "source": [
    "new_header = map.iloc[0] #grab the first row for the header\n",
    "map = map[1:] #take the data less the header row\n",
    "map.columns = new_header #set the header row as the df header\n",
    "map.head()"
   ]
  },
  {
   "cell_type": "code",
   "execution_count": 11,
   "metadata": {},
   "outputs": [
    {
     "name": "stderr",
     "output_type": "stream",
     "text": [
      "<ipython-input-11-4a84cb24cebc>:1: UserWarning: DataFrame columns are not unique, some columns will be omitted.\n",
      "  map=map.to_dict('r')[0]\n"
     ]
    },
    {
     "name": "stdout",
     "output_type": "stream",
     "text": [
      "       0\n",
      "0  local\n",
      "1  local\n",
      "       0\n",
      "0  10941\n",
      "1  10941\n"
     ]
    }
   ],
   "source": [
    "map=map.to_dict('r')[0]\n",
    "a=pd.DataFrame(['local','local'])\n",
    "print(a)\n",
    "a.replace(map,inplace=True)\n",
    "print(a)"
   ]
  },
  {
   "cell_type": "code",
   "execution_count": null,
   "metadata": {},
   "outputs": [],
   "source": []
  },
  {
   "cell_type": "code",
   "execution_count": 12,
   "metadata": {
    "scrolled": true
   },
   "outputs": [],
   "source": [
    "def replace(list,map):\n",
    "    for i,w in enumerate(list):\n",
    "        if w in map:\n",
    "            list[i]=map[w]\n",
    "        else:\n",
    "            list[i]=0\n",
    "    vector={}\n",
    "    for f in list:\n",
    "        if not f in vector:\n",
    "            vector[f]=1\n",
    "        else:\n",
    "            vector[f]+=1\n",
    "    return vector\n"
   ]
  },
  {
   "cell_type": "code",
   "execution_count": 13,
   "metadata": {},
   "outputs": [
    {
     "data": {
      "text/plain": [
       "[{10941: 1,\n",
       "  5149: 1,\n",
       "  7430: 1,\n",
       "  18318: 1,\n",
       "  7651: 1,\n",
       "  1599: 1,\n",
       "  18302: 2,\n",
       "  8068: 1,\n",
       "  0: 2,\n",
       "  6943: 1,\n",
       "  17669: 1,\n",
       "  5461: 1,\n",
       "  6768: 1,\n",
       "  18368: 1,\n",
       "  9839: 1,\n",
       "  17363: 1,\n",
       "  13017: 1,\n",
       "  12929: 1,\n",
       "  7721: 1,\n",
       "  14441: 1}]"
      ]
     },
     "execution_count": 13,
     "metadata": {},
     "output_type": "execute_result"
    }
   ],
   "source": [
    "vectors=[]\n",
    "for s in words:\n",
    "    vectors+=[replace(s,map)]\n",
    "vectors[:1]\n"
   ]
  },
  {
   "cell_type": "code",
   "execution_count": 14,
   "metadata": {},
   "outputs": [
    {
     "data": {
      "text/plain": [
       "[0.0,\n",
       " 0.5345224838248488,\n",
       " 0.8017837257372732,\n",
       " 0.0,\n",
       " 0.2672612419124244,\n",
       " 0.0,\n",
       " 0.0,\n",
       " 0.0]"
      ]
     },
     "execution_count": 14,
     "metadata": {},
     "output_type": "execute_result"
    }
   ],
   "source": [
    "def onehotvectorize(v,vlength):\n",
    "    hotvector=[]\n",
    "    for i in range(vlength):\n",
    "        if i in v:\n",
    "            hotvector+=[v[i]]\n",
    "        else:\n",
    "            hotvector+=[0]\n",
    "    a= np.array(hotvector)\n",
    "    a=a/np.linalg.norm(a)\n",
    "    return a.tolist()\n",
    "onehotvectorize({1:2,2:3,4:1},8)\n",
    "            \n",
    "            "
   ]
  },
  {
   "cell_type": "code",
   "execution_count": null,
   "metadata": {},
   "outputs": [],
   "source": []
  },
  {
   "cell_type": "code",
   "execution_count": 15,
   "metadata": {},
   "outputs": [
    {
     "name": "stdout",
     "output_type": "stream",
     "text": [
      "20542\n"
     ]
    }
   ],
   "source": [
    "blurbvectors=[]\n",
    "vectorlength=ctext_df.nunique()[0]\n",
    "print(vectorlength)\n"
   ]
  },
  {
   "cell_type": "code",
   "execution_count": 16,
   "metadata": {},
   "outputs": [],
   "source": [
    "for v in vectors:\n",
    "    blurbvectors+=[onehotvectorize(v,vectorlength)]"
   ]
  },
  {
   "cell_type": "code",
   "execution_count": 17,
   "metadata": {},
   "outputs": [
    {
     "data": {
      "text/plain": [
       "(8000, 20542)"
      ]
     },
     "execution_count": 17,
     "metadata": {},
     "output_type": "execute_result"
    }
   ],
   "source": [
    "blurbvectors=np.array(blurbvectors)\n",
    "blurbvectors.shape"
   ]
  },
  {
   "cell_type": "code",
   "execution_count": 18,
   "metadata": {},
   "outputs": [],
   "source": [
    "from sklearn.decomposition import PCA\n",
    "import seaborn as sns\n",
    "\n",
    "pca = PCA(n_components=200)\n",
    "pca_result = pca.fit_transform(blurbvectors)"
   ]
  },
  {
   "cell_type": "code",
   "execution_count": 19,
   "metadata": {},
   "outputs": [],
   "source": [
    "import matplotlib.pyplot as plt\n",
    "plt.plot(np.cumsum(pca.explained_variance_ratio_))\n",
    "plt.xlabel('number of components')\n",
    "plt.ylabel('cumulative explained variance');\n",
    "plt.show()"
   ]
  },
  {
   "cell_type": "code",
   "execution_count": 20,
   "metadata": {},
   "outputs": [],
   "source": [
    "\n",
    "# colors\n",
    "# sns settings\n",
    "\n",
    "pca_fail=pca_result[df['binary_state']==0,:]\n",
    "pca_succ=pca_result[df['binary_state']==1,:]\n",
    "\n",
    "sns.set(rc={'figure.figsize':(15,15)})\n",
    "fail = sns.color_palette(\"bright\", 1)\n",
    "succ= sns.color_palette(\"dark\", 1)\n",
    "# plot\n",
    "#sns.scatterplot(X_embedded[:,0], X_embedded[:,1], palette=fail)\n",
    "sns.scatterplot(pca_fail[:,0], pca_fail[:,1], palette=fail)\n",
    "sns.scatterplot(pca_succ[:,0], pca_succ[:,1], palette=succ)\n",
    "\n",
    "plt.title(\"Kickstarter description\")\n",
    "# plt.savefig(\"plots/t-sne_covid19.png\")\n",
    "plt.show()"
   ]
  },
  {
   "cell_type": "code",
   "execution_count": 21,
   "metadata": {},
   "outputs": [],
   "source": [
    "#%matplotlib inline\n",
    "from mpl_toolkits.mplot3d import Axes3D\n",
    "\n",
    "ax = plt.figure(figsize=(16,10)).gca(projection='3d')\n",
    "\n",
    "ax.scatter(\n",
    "    xs=pca_succ[:,0], \n",
    "    ys=pca_succ[:,1], \n",
    "    zs=pca_succ[:,2], \n",
    "    c='blue',\n",
    "    cmap='tab10'\n",
    ")\n",
    "ax.scatter(\n",
    "    xs=pca_fail[:,0], \n",
    "    ys=pca_fail[:,1], \n",
    "    zs=pca_fail[:,2], \n",
    "    c='yellow',\n",
    "    cmap='tab10'\n",
    ")\n",
    "\n",
    "\n",
    "ax.set_xlabel('pca-one')\n",
    "ax.set_ylabel('pca-two')\n",
    "ax.set_zlabel('pca-three')\n",
    "plt.title(\"PCA Covid-19 Articles (3D) - Clustered (K-Means) - Tf-idf with Plain Text\")\n",
    "# plt.savefig(\"plots/pca_covid19_label_TFID_3d.png\")\n",
    "\n",
    "ax.view_init(0, 40)\n",
    "plt.draw()\n"
   ]
  },
  {
   "cell_type": "code",
   "execution_count": 22,
   "metadata": {},
   "outputs": [],
   "source": [
    "ax = plt.figure(figsize=(16,10)).gca(projection='3d')\n",
    "\n",
    "ax.scatter(\n",
    "    xs=pca_fail[:,0], \n",
    "    ys=pca_fail[:,1], \n",
    "    zs=pca_fail[:,2], \n",
    "    c=fail,\n",
    "    cmap='tab10'\n",
    ")\n",
    "ax.set_xlabel('pca-one')\n",
    "ax.set_ylabel('pca-two')\n",
    "ax.set_zlabel('pca-three')\n",
    "plt.title(\"PCA Covid-19 Articles (3D) - Clustered (K-Means) - Tf-idf with Plain Text\")\n",
    "# plt.savefig(\"plots/pca_covid19_label_TFID_3d.png\")\n",
    "plt.show()"
   ]
  },
  {
   "cell_type": "code",
   "execution_count": null,
   "metadata": {},
   "outputs": [],
   "source": []
  },
  {
   "cell_type": "code",
   "execution_count": null,
   "metadata": {},
   "outputs": [],
   "source": []
  },
  {
   "cell_type": "code",
   "execution_count": 23,
   "metadata": {},
   "outputs": [
    {
     "name": "stdout",
     "output_type": "stream",
     "text": [
      "['cold' 'cold' 'warm' 'cold' 'hot' 'hot' 'warm' 'cold' 'warm' 'hot']\n",
      "[0 0 2 0 1 1 2 0 2 1]\n",
      "[[1. 0. 0.]\n",
      " [1. 0. 0.]\n",
      " [0. 0. 1.]\n",
      " [1. 0. 0.]\n",
      " [0. 1. 0.]\n",
      " [0. 1. 0.]\n",
      " [0. 0. 1.]\n",
      " [1. 0. 0.]\n",
      " [0. 0. 1.]\n",
      " [0. 1. 0.]]\n",
      "['cold']\n",
      "[0]\n"
     ]
    }
   ],
   "source": [
    "from sklearn.preprocessing import LabelEncoder\n",
    "from sklearn.preprocessing import OneHotEncoder\n",
    "data = ['cold', 'cold', 'warm', 'cold', 'hot', 'hot', 'warm', 'cold', 'warm', 'hot']\n",
    "values = np.array(data)\n",
    "print(values)\n",
    "# integer encode\n",
    "label_encoder = LabelEncoder()\n",
    "integer_encoded = label_encoder.fit_transform(values)\n",
    "print(integer_encoded)\n",
    "# binary encode\n",
    "onehot_encoder = OneHotEncoder(sparse=False)\n",
    "integer_encoded = integer_encoded.reshape(len(integer_encoded), 1)\n",
    "onehot_encoded = onehot_encoder.fit_transform(integer_encoded)\n",
    "print(onehot_encoded)\n",
    "# invert first example\n",
    "inverted = label_encoder.inverse_transform([np.argmax(onehot_encoded[0, :])])\n",
    "print(inverted)\n",
    "print(label_encoder.transform(['cold']))"
   ]
  },
  {
   "cell_type": "code",
   "execution_count": null,
   "metadata": {},
   "outputs": [],
   "source": []
  }
 ],
 "metadata": {
  "kernelspec": {
   "display_name": "Python 3",
   "language": "python",
   "name": "python3"
  },
  "language_info": {
   "codemirror_mode": {
    "name": "ipython",
    "version": 3
   },
   "file_extension": ".py",
   "mimetype": "text/x-python",
   "name": "python",
   "nbconvert_exporter": "python",
   "pygments_lexer": "ipython3",
   "version": "3.8.3"
  }
 },
 "nbformat": 4,
 "nbformat_minor": 4
}
