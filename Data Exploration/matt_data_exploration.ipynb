{
 "cells": [
  {
   "cell_type": "code",
   "execution_count": 12,
   "metadata": {},
   "outputs": [],
   "source": [
    "import numpy as np\n",
    "import pandas as pd\n",
    "import textstat as ts\n",
    "\n",
    "# make sure you have the blurbs stitched before running \n",
    "df_joined = pd.read_csv(\"../Data/Cleaned/joined_data.csv\")\n",
    "\n",
    "# ~45sec to run\n",
    "df_joined['readability'] = df_joined.apply(lambda x: ts.flesch_reading_ease(x['blurb']), axis=1)"
   ]
  },
  {
   "cell_type": "code",
   "execution_count": 22,
   "metadata": {},
   "outputs": [
    {
     "data": {
      "image/png": "[encoded data removed]",
      "text/plain": [
       "<Figure size 1008x288 with 2 Axes>"
      ]
     },
     "metadata": {
      "image/png": {
       "height": 274,
       "width": 853
      },
      "needs_background": "light"
     },
     "output_type": "display_data"
    }
   ],
   "source": [
    "import matplotlib.pyplot as plt\n",
    "import seaborn as sns\n",
    "%config InlineBackend.figure_format = 'retina'\n",
    "df_joined.hist(column='readability', by='state', bins=100,figsize=(14,4), range=(-20.0,125.0))"
   ]
  },
  {
   "cell_type": "code",
   "execution_count": 26,
   "metadata": {},
   "outputs": [
    {
     "data": {
      "text/html": [
       "<div>\n",
       "<style scoped>\n",
       "    .dataframe tbody tr th:only-of-type {\n",
       "        vertical-align: middle;\n",
       "    }\n",
       "\n",
       "    .dataframe tbody tr th {\n",
       "        vertical-align: top;\n",
       "    }\n",
       "\n",
       "    .dataframe thead tr th {\n",
       "        text-align: left;\n",
       "    }\n",
       "\n",
       "    .dataframe thead tr:last-of-type th {\n",
       "        text-align: right;\n",
       "    }\n",
       "</style>\n",
       "<table border=\"1\" class=\"dataframe\">\n",
       "  <thead>\n",
       "    <tr>\n",
       "      <th></th>\n",
       "      <th colspan=\"8\" halign=\"left\">backers_count</th>\n",
       "      <th colspan=\"2\" halign=\"left\">blurb_length</th>\n",
       "      <th>...</th>\n",
       "      <th colspan=\"2\" halign=\"left\">usd_goal_real</th>\n",
       "      <th colspan=\"8\" halign=\"left\">readability</th>\n",
       "    </tr>\n",
       "    <tr>\n",
       "      <th></th>\n",
       "      <th>count</th>\n",
       "      <th>mean</th>\n",
       "      <th>std</th>\n",
       "      <th>min</th>\n",
       "      <th>25%</th>\n",
       "      <th>50%</th>\n",
       "      <th>75%</th>\n",
       "      <th>max</th>\n",
       "      <th>count</th>\n",
       "      <th>mean</th>\n",
       "      <th>...</th>\n",
       "      <th>75%</th>\n",
       "      <th>max</th>\n",
       "      <th>count</th>\n",
       "      <th>mean</th>\n",
       "      <th>std</th>\n",
       "      <th>min</th>\n",
       "      <th>25%</th>\n",
       "      <th>50%</th>\n",
       "      <th>75%</th>\n",
       "      <th>max</th>\n",
       "    </tr>\n",
       "    <tr>\n",
       "      <th>state</th>\n",
       "      <th></th>\n",
       "      <th></th>\n",
       "      <th></th>\n",
       "      <th></th>\n",
       "      <th></th>\n",
       "      <th></th>\n",
       "      <th></th>\n",
       "      <th></th>\n",
       "      <th></th>\n",
       "      <th></th>\n",
       "      <th></th>\n",
       "      <th></th>\n",
       "      <th></th>\n",
       "      <th></th>\n",
       "      <th></th>\n",
       "      <th></th>\n",
       "      <th></th>\n",
       "      <th></th>\n",
       "      <th></th>\n",
       "      <th></th>\n",
       "      <th></th>\n",
       "    </tr>\n",
       "  </thead>\n",
       "  <tbody>\n",
       "    <tr>\n",
       "      <th>0.0</th>\n",
       "      <td>124115.0</td>\n",
       "      <td>15.581050</td>\n",
       "      <td>79.893562</td>\n",
       "      <td>0.0</td>\n",
       "      <td>1.0</td>\n",
       "      <td>3.0</td>\n",
       "      <td>11.0</td>\n",
       "      <td>6550.0</td>\n",
       "      <td>124115.0</td>\n",
       "      <td>19.491206</td>\n",
       "      <td>...</td>\n",
       "      <td>20000.0</td>\n",
       "      <td>1.513959e+08</td>\n",
       "      <td>124115.0</td>\n",
       "      <td>62.095442</td>\n",
       "      <td>24.059550</td>\n",
       "      <td>-1486.19</td>\n",
       "      <td>50.16</td>\n",
       "      <td>64.67</td>\n",
       "      <td>77.23</td>\n",
       "      <td>206.84</td>\n",
       "    </tr>\n",
       "    <tr>\n",
       "      <th>1.0</th>\n",
       "      <td>118515.0</td>\n",
       "      <td>275.541881</td>\n",
       "      <td>1570.905723</td>\n",
       "      <td>1.0</td>\n",
       "      <td>33.0</td>\n",
       "      <td>72.0</td>\n",
       "      <td>173.0</td>\n",
       "      <td>219382.0</td>\n",
       "      <td>118515.0</td>\n",
       "      <td>19.337839</td>\n",
       "      <td>...</td>\n",
       "      <td>10000.0</td>\n",
       "      <td>2.015609e+06</td>\n",
       "      <td>118515.0</td>\n",
       "      <td>61.025991</td>\n",
       "      <td>21.989557</td>\n",
       "      <td>-893.99</td>\n",
       "      <td>49.15</td>\n",
       "      <td>62.68</td>\n",
       "      <td>75.71</td>\n",
       "      <td>206.84</td>\n",
       "    </tr>\n",
       "  </tbody>\n",
       "</table>\n",
       "<p>2 rows × 72 columns</p>\n",
       "</div>"
      ],
      "text/plain": [
       "      backers_count                                                   \\\n",
       "              count        mean          std  min   25%   50%    75%   \n",
       "state                                                                  \n",
       "0.0        124115.0   15.581050    79.893562  0.0   1.0   3.0   11.0   \n",
       "1.0        118515.0  275.541881  1570.905723  1.0  33.0  72.0  173.0   \n",
       "\n",
       "                blurb_length             ... usd_goal_real                \\\n",
       "            max        count       mean  ...           75%           max   \n",
       "state                                    ...                               \n",
       "0.0      6550.0     124115.0  19.491206  ...       20000.0  1.513959e+08   \n",
       "1.0    219382.0     118515.0  19.337839  ...       10000.0  2.015609e+06   \n",
       "\n",
       "      readability                                                              \n",
       "            count       mean        std      min    25%    50%    75%     max  \n",
       "state                                                                          \n",
       "0.0      124115.0  62.095442  24.059550 -1486.19  50.16  64.67  77.23  206.84  \n",
       "1.0      118515.0  61.025991  21.989557  -893.99  49.15  62.68  75.71  206.84  \n",
       "\n",
       "[2 rows x 72 columns]"
      ]
     },
     "execution_count": 26,
     "metadata": {},
     "output_type": "execute_result"
    }
   ],
   "source": [
    "df_joined.groupby('state').describe()"
   ]
  },
  {
   "cell_type": "code",
   "execution_count": null,
   "metadata": {},
   "outputs": [],
   "source": []
  }
 ],
 "metadata": {
  "kernelspec": {
   "display_name": "Python 3",
   "language": "python",
   "name": "python3"
  },
  "language_info": {
   "codemirror_mode": {
    "name": "ipython",
    "version": 3
   },
   "file_extension": ".py",
   "mimetype": "text/x-python",
   "name": "python",
   "nbconvert_exporter": "python",
   "pygments_lexer": "ipython3",
   "version": "3.8.3"
  }
 },
 "nbformat": 4,
 "nbformat_minor": 4
}
