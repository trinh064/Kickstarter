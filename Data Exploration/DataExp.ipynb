{
 "cells": [
  {
   "cell_type": "code",
   "execution_count": 1,
   "metadata": {},
   "outputs": [
    {
     "ename": "ModuleNotFoundError",
     "evalue": "No module named 'plotly'",
     "output_type": "error",
     "traceback": [
      "\u001b[1;31m---------------------------------------------------------------------------\u001b[0m",
      "\u001b[1;31mModuleNotFoundError\u001b[0m                       Traceback (most recent call last)",
      "\u001b[1;32m<ipython-input-1-572e03519251>\u001b[0m in \u001b[0;36m<module>\u001b[1;34m\u001b[0m\n\u001b[0;32m      5\u001b[0m \u001b[1;32mfrom\u001b[0m \u001b[0mscipy\u001b[0m \u001b[1;32mimport\u001b[0m \u001b[0mstats\u001b[0m\u001b[1;33m\u001b[0m\u001b[1;33m\u001b[0m\u001b[0m\n\u001b[0;32m      6\u001b[0m \u001b[1;33m\u001b[0m\u001b[0m\n\u001b[1;32m----> 7\u001b[1;33m \u001b[1;32mimport\u001b[0m \u001b[0mplotly\u001b[0m\u001b[1;33m.\u001b[0m\u001b[0mtools\u001b[0m \u001b[1;32mas\u001b[0m \u001b[0mtls\u001b[0m\u001b[1;33m\u001b[0m\u001b[1;33m\u001b[0m\u001b[0m\n\u001b[0m\u001b[0;32m      8\u001b[0m \u001b[1;32mimport\u001b[0m \u001b[0mplotly\u001b[0m\u001b[1;33m\u001b[0m\u001b[1;33m\u001b[0m\u001b[0m\n\u001b[0;32m      9\u001b[0m \u001b[1;32mimport\u001b[0m \u001b[0mplotly\u001b[0m\u001b[1;33m.\u001b[0m\u001b[0moffline\u001b[0m \u001b[1;32mas\u001b[0m \u001b[0mpy\u001b[0m\u001b[1;33m\u001b[0m\u001b[1;33m\u001b[0m\u001b[0m\n",
      "\u001b[1;31mModuleNotFoundError\u001b[0m: No module named 'plotly'"
     ]
    }
   ],
   "source": [
    "import pandas as pd\n",
    "import numpy as np\n",
    "import seaborn as sns\n",
    "import matplotlib.pyplot as plt\n",
    "from scipy import stats\n",
    "\n",
    "import plotly.tools as tls\n",
    "import plotly\n",
    "import plotly.offline as py\n",
    "from plotly.offline import init_notebook_mode, iplot, plot\n",
    "import plotly.graph_objs as go\n",
    "init_notebook_mode(connected=True)\n",
    "\n",
    "import warnings\n",
    "from collections import Counter\n",
    "\n",
    "from scipy.stats import ttest_ind, ttest_ind_from_stats\n",
    "from scipy.stats import chisquare\n",
    "from scipy.special import stdtr\n",
    "from scipy.stats import chi2_contingency \n",
    "\n",
    "\n",
    "\n",
    "from wordcloud import WordCloud, STOPWORDS\n",
    "import nltk.tokenize as word_tokenize\n",
    "import re\n",
    "from nltk.tokenize import word_tokenize\n",
    "from nltk.corpus import stopwords\n",
    "import string\n",
    "import re\n",
    "from nltk.stem.porter import *\n",
    "from nltk.tokenize import sent_tokenize\n",
    "from sklearn.feature_extraction import stop_words\n",
    "\n",
    "from wordcloud import WordCloud, STOPWORDS"
   ]
  },
  {
   "cell_type": "code",
   "execution_count": null,
   "metadata": {},
   "outputs": [],
   "source": [
    "df_2018 = pd.read_csv(\"5523_Group_Project/Data/ks-projects-201801.csv\")\n",
    "df_2018.head()"
   ]
  },
  {
   "cell_type": "code",
   "execution_count": null,
   "metadata": {},
   "outputs": [],
   "source": [
    "df_2018.shape\n",
    "df_2018.info()\n",
    "df_2018.describe()"
   ]
  },
  {
   "cell_type": "code",
   "execution_count": null,
   "metadata": {},
   "outputs": [],
   "source": [
    "df_2018.isnull().sum()"
   ]
  },
  {
   "cell_type": "code",
   "execution_count": null,
   "metadata": {},
   "outputs": [],
   "source": [
    "df_2018.isna().sum()"
   ]
  },
  {
   "cell_type": "code",
   "execution_count": null,
   "metadata": {},
   "outputs": [],
   "source": [
    "df_2018.drop(['usd pledged'], axis=1, inplace=True)"
   ]
  },
  {
   "cell_type": "code",
   "execution_count": null,
   "metadata": {},
   "outputs": [],
   "source": [
    "df_2018.dropna(inplace=True)"
   ]
  },
  {
   "cell_type": "code",
   "execution_count": null,
   "metadata": {},
   "outputs": [],
   "source": [
    "df_2018.nunique()"
   ]
  },
  {
   "cell_type": "code",
   "execution_count": null,
   "metadata": {},
   "outputs": [],
   "source": [
    "stopwords = set(STOPWORDS)\n",
    "\n",
    "wordcloud = WordCloud(\n",
    "    background_color='white',\n",
    "    stopwords=stopwords,\n",
    "    max_words=500,\n",
    "    max_font_size=200, \n",
    "    width=1000, height=800,\n",
    "    random_state=42,\n",
    ").generate(\" \".join(df_2018['name'].dropna().astype(str)))\n",
    "\n",
    "print(wordcloud)\n",
    "fig = plt.figure(figsize = (12,14))\n",
    "plt.imshow(wordcloud)\n",
    "plt.title(\"WORD CLOUD - REGION DESCRIPTION\",fontsize=25)\n",
    "plt.axis('off')\n",
    "\n",
    "plt.show()"
   ]
  },
  {
   "cell_type": "code",
   "execution_count": null,
   "metadata": {},
   "outputs": [],
   "source": [
    "state_percentage = df_2018.state.value_counts(normalize=True)\n",
    "\n",
    "trace = go.Pie(labels=state_percentage.index, values=state_percentage, textinfo='value')\n",
    "layout = dict(title = 'Project States Percentages')\n",
    "\n",
    "py.iplot(dict(data=[trace], layout=layout))"
   ]
  },
  {
   "cell_type": "code",
   "execution_count": null,
   "metadata": {},
   "outputs": [],
   "source": [
    "df_2018 = df_2018.loc[df_2018['state'].isin(['failed','successful'])]"
   ]
  },
  {
   "cell_type": "code",
   "execution_count": null,
   "metadata": {},
   "outputs": [],
   "source": [
    "df_2018.country.value_counts(normalize=True)"
   ]
  },
  {
   "cell_type": "code",
   "execution_count": null,
   "metadata": {},
   "outputs": [],
   "source": [
    "df_2018.drop(df_2018[df_2018['country']=='N,0\"'].index, inplace=True)\n"
   ]
  },
  {
   "cell_type": "code",
   "execution_count": null,
   "metadata": {},
   "outputs": [],
   "source": [
    "country_percent = df_2018.country.value_counts(normalize=True)\n",
    "trace = go.Bar(x=country_percent.index, y=country_percent)\n",
    "layout = dict(title = 'Percentage of Projects per Country',\n",
    "              xaxis = dict(title = 'Country'),\n",
    "              yaxis = dict(title = 'Percentage of Projects'))\n",
    "\n",
    "py.iplot(dict(data=[trace], layout=layout))"
   ]
  },
  {
   "cell_type": "code",
   "execution_count": null,
   "metadata": {},
   "outputs": [],
   "source": [
    "df_2018.main_category.value_counts(normalize=True)"
   ]
  },
  {
   "cell_type": "code",
   "execution_count": null,
   "metadata": {},
   "outputs": [],
   "source": [
    "plt.subplots(figsize=(19,5))\n",
    "sns.countplot(df_2018['main_category'])\n",
    "sns.despine(bottom=True, left=True)"
   ]
  },
  {
   "cell_type": "code",
   "execution_count": null,
   "metadata": {},
   "outputs": [],
   "source": [
    "print('Categories in category: ', df_2018['category'].nunique())\n",
    "df_2018['category'].value_counts()[:20].plot(kind='barh', \n",
    "                                        figsize=(14,6), \n",
    "                                        title='Top 20 most popular categories')"
   ]
  },
  {
   "cell_type": "code",
   "execution_count": null,
   "metadata": {},
   "outputs": [],
   "source": [
    "main_cats = df_2018[\"main_category\"].value_counts()\n",
    "main_cats_failed = df_2018[df_2018[\"state\"] == \"failed\"][\"main_category\"].value_counts()\n",
    "main_cats_sucess = df_2018[df_2018[\"state\"] == \"successful\"][\"main_category\"].value_counts()\n",
    "\n",
    "#First plot\n",
    "trace0 = go.Bar(\n",
    "    x=main_cats_failed.index,\n",
    "    y=main_cats_failed.values,\n",
    "    name=\"Failed Categories\"\n",
    ")\n",
    "#Second plot\n",
    "trace1 = go.Bar(\n",
    "    x=main_cats_sucess.index,\n",
    "    y=main_cats_sucess.values,\n",
    "    name=\"Success Categories\"\n",
    ")\n",
    "#Third plot\n",
    "trace2 = go.Bar(\n",
    "    x=main_cats.index,\n",
    "    y=main_cats.values,\n",
    "    name=\"Categories Distribuition\"\n",
    ")\n",
    "\n",
    "#Creating the grid\n",
    "fig = tls.make_subplots(rows=2, cols=2, specs=[[{}, {}], [{'colspan': 2}, None]],\n",
    "                          subplot_titles=('Failed','Sucessful', \"General Category's\"))\n",
    "\n",
    "#setting the figs\n",
    "fig.append_trace(trace0, 1, 1)\n",
    "fig.append_trace(trace1, 1, 2)\n",
    "fig.append_trace(trace2, 2, 1)\n",
    "\n",
    "fig['layout'].update(showlegend=True,\n",
    "                     title=\"Main Category's Distribuition\",\n",
    "                     bargap=0.05)\n",
    "iplot(fig)"
   ]
  },
  {
   "cell_type": "code",
   "execution_count": null,
   "metadata": {},
   "outputs": [],
   "source": [
    "# Creating subplots for each category\n",
    "sns.set_palette(sns.cubehelix_palette(8))\n",
    "fig = plt.figure(figsize = (15,15))\n",
    "fig.add_subplot(3, 3, 1)\n",
    "plt.title(\"Product Design\")\n",
    "sns.countplot(df_2018[df_2018[\"category\"] == \"Product Design\"][\"state\"])\n",
    "fig.add_subplot(3, 3, 2)\n",
    "plt.title(\"Tabletop Games\")\n",
    "sns.countplot(df_2018[df_2018[\"category\"] == \"Tabletop Games\"][\"state\"])\n",
    "fig.add_subplot(3, 3, 3)\n",
    "plt.title(\"Shorts\")\n",
    "sns.countplot(df_2018[df_2018[\"category\"] == \"Shorts\"][\"state\"])\n",
    "fig.add_subplot(3, 3, 4)\n",
    "plt.title(\"Video Games\")\n",
    "sns.countplot(df_2018[df_2018[\"category\"] == \"Video Games\"][\"state\"])\n",
    "fig.add_subplot(3, 3, 5)\n",
    "plt.title(\"Food\")\n",
    "sns.countplot(df_2018[df_2018[\"category\"] == \"Food\"][\"state\"])\n",
    "fig.add_subplot(3, 3, 6)\n",
    "plt.title(\"Film & Video\")\n",
    "sns.countplot(df_2018[df_2018[\"category\"] == \"Film & Video\"][\"state\"])\n",
    "fig.add_subplot(3, 3, 7)\n",
    "plt.title(\"Documentary\")\n",
    "sns.countplot(df_2018[df_2018[\"category\"] == \"Documentary\"][\"state\"])\n",
    "fig.subplots_adjust(wspace = 0.4, hspace= 0.8, right= 0.9, left = 0.125)\n",
    "\n",
    "for ax in fig.axes:\n",
    "    plt.sca(ax)\n",
    "    plt.xticks(rotation=50)\n",
    "    \n",
    "plt.show()"
   ]
  },
  {
   "cell_type": "code",
   "execution_count": null,
   "metadata": {},
   "outputs": [],
   "source": [
    "failed_film = df_2018[(df_2018['main_category'] == 'Film & Video') & \n",
    "                      (df_2018['state'] == 'failed')]\n",
    "failed_publishing = df_2018[(df_2018['main_category'] == 'Publishing') & \n",
    "                      (df_2018['state'] == 'failed')]\n",
    "failed_music = df_2018[(df_2018['main_category'] == 'Music') & \n",
    "                      (df_2018['state'] == 'failed')]\n",
    "\n",
    "plt.figure(figsize=(14,16))\n",
    "\n",
    "plt.subplot(3,1,1)\n",
    "ax0 = sns.countplot(x='category', data=failed_film, color='coral')\n",
    "ax0.set_xticklabels(ax0.get_xticklabels(),rotation=90)\n",
    "ax0.set_title(\"Film & Video Most Fail Category's \", fontsize=22)\n",
    "ax0.set_xlabel(\"\", fontsize=15)\n",
    "ax0.set_ylabel(\"Counts\", fontsize=15)\n",
    "sizes=[]\n",
    "for p in ax0.patches:\n",
    "    height = p.get_height()\n",
    "    sizes.append(height)\n",
    "    ax0.text(p.get_x()+p.get_width()/2.,\n",
    "            height + 2,\n",
    "            '{:1.2f}%'.format(height/len(failed_film)*100),\n",
    "            ha=\"center\", fontsize=10) \n",
    "ax0.set_ylim(0, max(sizes) * 1.15)\n",
    "\n",
    "plt.subplot(3,1,2)\n",
    "ax1 = sns.countplot(x='category', data=failed_publishing, color='coral')\n",
    "ax1.set_xticklabels(ax1.get_xticklabels(),rotation=90)\n",
    "ax1.set_title(\"Publishing Most Fail Category's\", fontsize=22)\n",
    "ax1.set_xlabel(\"\", fontsize=17)\n",
    "ax1.set_ylabel(\"Counts\", fontsize=17)\n",
    "sizes=[]\n",
    "for p in ax1.patches:\n",
    "    height = p.get_height()\n",
    "    sizes.append(height)\n",
    "    ax1.text(p.get_x()+p.get_width()/2.,\n",
    "            height + 2,\n",
    "            '{:1.2f}%'.format(height/len(failed_publishing)*100),\n",
    "            ha=\"center\", fontsize=10) \n",
    "ax1.set_ylim(0, max(sizes) * 1.15)\n",
    "\n",
    "plt.subplot(3,1,3)\n",
    "ax2 = sns.countplot(x='category', data=failed_music, \n",
    "                    color='coral')\n",
    "ax2.set_xticklabels(ax2.get_xticklabels(),rotation=90)\n",
    "ax2.set_title(\"Music Most Fail Category's\", fontsize=22)\n",
    "ax2.set_xlabel(\"Category Names\", fontsize=17)\n",
    "ax2.set_ylabel(\"Counts\", fontsize=17)\n",
    "sizes=[]\n",
    "for p in ax2.patches:\n",
    "    height = p.get_height()\n",
    "    sizes.append(height)\n",
    "    ax2.text(p.get_x()+p.get_width()/2.,\n",
    "            height + 2,\n",
    "            '{:1.2f}%'.format(height/len(failed_music)*100),\n",
    "            ha=\"center\", fontsize=10) \n",
    "ax2.set_ylim(0, max(sizes) * 1.15)\n",
    "\n",
    "plt.subplots_adjust(wspace = 0.5, hspace = 0.6,top = 0.9)\n",
    "\n",
    "plt.show()"
   ]
  },
  {
   "cell_type": "code",
   "execution_count": null,
   "metadata": {},
   "outputs": [],
   "source": [
    "pledged_sum = {}\n",
    "for category in list(set(df_2018['main_category'])):\n",
    "    amount = df_2018[df_2018['main_category'] == category]['usd_pledged_real'].sum()\n",
    "    pledged_sum[category] = amount\n",
    "\n",
    "# Create dataframe\n",
    "cate_df = pd.Series(pledged_sum)\n",
    "cate_df = pd.DataFrame(cate_df)\n",
    "cate_df = cate_df.rename(columns = {0:\"pledged_sum\"})\n",
    "\n",
    "cate_df.head()"
   ]
  },
  {
   "cell_type": "code",
   "execution_count": null,
   "metadata": {},
   "outputs": [],
   "source": [
    "cate_df = cate_df.sort_values('pledged_sum',  ascending = False)\n",
    "plt.subplots(figsize = (20,5))\n",
    "sns.set_style(\"whitegrid\")\n",
    "sns.barplot(cate_df['pledged_sum'].index, y= cate_df['pledged_sum'] ,\n",
    "            palette=\"Set1\",saturation = 0.5)\n",
    "sns.despine(right = True, top = True)"
   ]
  },
  {
   "cell_type": "code",
   "execution_count": null,
   "metadata": {},
   "outputs": [],
   "source": [
    "cate_count = {}\n",
    "for category in list(set(df_2018['main_category'])):\n",
    "    count = df_2018[df_2018['main_category'] == category]['main_category'].count()\n",
    "    cate_count[category] = count\n",
    "    \n",
    "cate_df['count'] = pd.Series(cate_count)\n",
    "\n",
    "cate_df.head()"
   ]
  },
  {
   "cell_type": "code",
   "execution_count": null,
   "metadata": {},
   "outputs": [],
   "source": [
    "cate_df = cate_df.sort_values('count',  ascending = False)\n",
    "plt.subplots(figsize = (20,5))\n",
    "sns.set_style(\"whitegrid\")\n",
    "sns.barplot(cate_df['count'].index, y= cate_df['count'] ,\n",
    "            palette=\"Set1\",saturation = 0.5)\n",
    "sns.despine(right = True, top = True)"
   ]
  }
 ],
 "metadata": {
  "kernelspec": {
   "display_name": "Python 3",
   "language": "python",
   "name": "python3"
  },
  "language_info": {
   "codemirror_mode": {
    "name": "ipython",
    "version": 3
   },
   "file_extension": ".py",
   "mimetype": "text/x-python",
   "name": "python",
   "nbconvert_exporter": "python",
   "pygments_lexer": "ipython3",
   "version": "3.8.3"
  }
 },
 "nbformat": 4,
 "nbformat_minor": 4
}
