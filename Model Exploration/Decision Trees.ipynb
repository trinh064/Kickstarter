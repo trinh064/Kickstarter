{
 "cells": [
  {
   "cell_type": "code",
   "execution_count": 143,
   "metadata": {},
   "outputs": [],
   "source": [
    "# Importing libraries\n",
    "# we don't like warnings; you can comment the following 2 lines if you'd like to\n",
    "import warnings\n",
    "warnings.filterwarnings('ignore')\n",
    "import numpy as np\n",
    "import pandas as pd\n",
    "import seaborn as sns; sns.set()\n",
    "from matplotlib import pyplot as plt\n",
    "%config InlineBackend.figure_format = 'retina'"
   ]
  },
  {
   "cell_type": "code",
   "execution_count": 144,
   "metadata": {},
   "outputs": [],
   "source": [
    "# Importing data\n",
    "df_ks = pd.read_csv(\"../Data/Cleaned/joined_data.csv\")\n",
    "# NOTE: May need to clean data further"
   ]
  },
  {
   "cell_type": "code",
   "execution_count": 145,
   "metadata": {},
   "outputs": [
    {
     "name": "stdout",
     "output_type": "stream",
     "text": [
      "<class 'pandas.core.frame.DataFrame'>\n",
      "RangeIndex: 242630 entries, 0 to 242629\n",
      "Data columns (total 21 columns):\n",
      " #   Column                     Non-Null Count   Dtype  \n",
      "---  ------                     --------------   -----  \n",
      " 0   backers_count              242630 non-null  int64  \n",
      " 1   blurb                      242630 non-null  object \n",
      " 2   blurb_length               242630 non-null  int64  \n",
      " 3   spotlight                  242630 non-null  bool   \n",
      " 4   staff_pick                 242630 non-null  bool   \n",
      " 5   location_state             242630 non-null  object \n",
      " 6   location_displayable_name  242630 non-null  object \n",
      " 7   name                       242630 non-null  object \n",
      " 8   category                   242630 non-null  object \n",
      " 9   main_category              242630 non-null  object \n",
      " 10  currency                   242630 non-null  object \n",
      " 11  deadline                   242630 non-null  object \n",
      " 12  goal                       242630 non-null  float64\n",
      " 13  launched                   242630 non-null  object \n",
      " 14  pledged                    242630 non-null  float64\n",
      " 15  state                      242630 non-null  float64\n",
      " 16  backers                    242630 non-null  float64\n",
      " 17  country                    242630 non-null  object \n",
      " 18  usd pledged                242630 non-null  float64\n",
      " 19  usd_pledged_real           242630 non-null  float64\n",
      " 20  usd_goal_real              242630 non-null  float64\n",
      "dtypes: bool(2), float64(7), int64(2), object(10)\n",
      "memory usage: 35.6+ MB\n"
     ]
    }
   ],
   "source": [
    "df_ks.info()"
   ]
  },
  {
   "cell_type": "code",
   "execution_count": 146,
   "metadata": {},
   "outputs": [],
   "source": [
    "# Drop the 'location_displayable_name' as it is redundant\n",
    "df_ks = df_ks.drop(columns=['location_displayable_name'])"
   ]
  },
  {
   "cell_type": "code",
   "execution_count": 147,
   "metadata": {},
   "outputs": [],
   "source": [
    "# Drop the backers as it is redundant\n",
    "df_ks = df_ks.drop(columns=['backers'])"
   ]
  },
  {
   "cell_type": "code",
   "execution_count": 148,
   "metadata": {},
   "outputs": [],
   "source": [
    "# Drop usd pledged as it is redudant\n",
    "df_ks = df_ks.drop(columns=['usd pledged'])"
   ]
  },
  {
   "cell_type": "code",
   "execution_count": 149,
   "metadata": {},
   "outputs": [],
   "source": [
    "# Drop currency as it is redudant\n",
    "df_ks = df_ks.drop(columns=['currency'])"
   ]
  },
  {
   "cell_type": "code",
   "execution_count": 150,
   "metadata": {},
   "outputs": [],
   "source": [
    "# Drop pledged as it is redudant\n",
    "df_ks = df_ks.drop(columns=['pledged'])"
   ]
  },
  {
   "cell_type": "code",
   "execution_count": 151,
   "metadata": {},
   "outputs": [],
   "source": [
    "# Drop goal as it is redudant\n",
    "df_ks = df_ks.drop(columns=['goal'])"
   ]
  },
  {
   "cell_type": "code",
   "execution_count": 152,
   "metadata": {},
   "outputs": [],
   "source": [
    "# Change category value: Children's Books --> childrens books\n",
    "df_ks['category'] = df_ks['category'].replace(['Children\\'s Books'], 'childrens books')"
   ]
  },
  {
   "cell_type": "code",
   "execution_count": 153,
   "metadata": {},
   "outputs": [
    {
     "data": {
      "text/html": [
       "<div>\n",
       "<style scoped>\n",
       "    .dataframe tbody tr th:only-of-type {\n",
       "        vertical-align: middle;\n",
       "    }\n",
       "\n",
       "    .dataframe tbody tr th {\n",
       "        vertical-align: top;\n",
       "    }\n",
       "\n",
       "    .dataframe thead th {\n",
       "        text-align: right;\n",
       "    }\n",
       "</style>\n",
       "<table border=\"1\" class=\"dataframe\">\n",
       "  <thead>\n",
       "    <tr style=\"text-align: right;\">\n",
       "      <th></th>\n",
       "      <th>backers_count</th>\n",
       "      <th>blurb</th>\n",
       "      <th>blurb_length</th>\n",
       "      <th>spotlight</th>\n",
       "      <th>staff_pick</th>\n",
       "      <th>location_state</th>\n",
       "      <th>name</th>\n",
       "      <th>category</th>\n",
       "      <th>main_category</th>\n",
       "      <th>deadline</th>\n",
       "      <th>launched</th>\n",
       "      <th>state</th>\n",
       "      <th>country</th>\n",
       "      <th>usd_pledged_real</th>\n",
       "      <th>usd_goal_real</th>\n",
       "    </tr>\n",
       "  </thead>\n",
       "  <tbody>\n",
       "    <tr>\n",
       "      <th>21</th>\n",
       "      <td>84</td>\n",
       "      <td>Astronauts onboard the space station are readi...</td>\n",
       "      <td>18</td>\n",
       "      <td>False</td>\n",
       "      <td>True</td>\n",
       "      <td>TX</td>\n",
       "      <td>Story Time From Space</td>\n",
       "      <td>childrens books</td>\n",
       "      <td>Publishing</td>\n",
       "      <td>2014-07-06</td>\n",
       "      <td>2014-05-07 19:44:28</td>\n",
       "      <td>0.0</td>\n",
       "      <td>US</td>\n",
       "      <td>5547.00</td>\n",
       "      <td>35000.00</td>\n",
       "    </tr>\n",
       "    <tr>\n",
       "      <th>122</th>\n",
       "      <td>4</td>\n",
       "      <td>Pronounced /erÉ™ pÄ« mÉ™/. Did someone say pie?</td>\n",
       "      <td>8</td>\n",
       "      <td>False</td>\n",
       "      <td>False</td>\n",
       "      <td>OR</td>\n",
       "      <td>Arie the Arapaima and His Marvelous Adventure ...</td>\n",
       "      <td>childrens books</td>\n",
       "      <td>Publishing</td>\n",
       "      <td>2017-06-07</td>\n",
       "      <td>2017-05-08 19:22:17</td>\n",
       "      <td>0.0</td>\n",
       "      <td>US</td>\n",
       "      <td>303.00</td>\n",
       "      <td>2900.00</td>\n",
       "    </tr>\n",
       "    <tr>\n",
       "      <th>153</th>\n",
       "      <td>374</td>\n",
       "      <td>Heartwarming tale of one familyâ€™s cherished ...</td>\n",
       "      <td>20</td>\n",
       "      <td>True</td>\n",
       "      <td>False</td>\n",
       "      <td>IL</td>\n",
       "      <td>Oliver the Ornament</td>\n",
       "      <td>childrens books</td>\n",
       "      <td>Publishing</td>\n",
       "      <td>2015-08-22</td>\n",
       "      <td>2015-07-13 14:15:45</td>\n",
       "      <td>1.0</td>\n",
       "      <td>US</td>\n",
       "      <td>52885.00</td>\n",
       "      <td>50000.00</td>\n",
       "    </tr>\n",
       "    <tr>\n",
       "      <th>190</th>\n",
       "      <td>98</td>\n",
       "      <td>Teaching young kids about materials, starting ...</td>\n",
       "      <td>24</td>\n",
       "      <td>True</td>\n",
       "      <td>False</td>\n",
       "      <td>CA</td>\n",
       "      <td>A children's book about a little guy made of f...</td>\n",
       "      <td>childrens books</td>\n",
       "      <td>Publishing</td>\n",
       "      <td>2015-11-19</td>\n",
       "      <td>2015-10-20 17:35:43</td>\n",
       "      <td>1.0</td>\n",
       "      <td>US</td>\n",
       "      <td>10508.00</td>\n",
       "      <td>10000.00</td>\n",
       "    </tr>\n",
       "    <tr>\n",
       "      <th>245</th>\n",
       "      <td>26</td>\n",
       "      <td>It's bedtime but one of Hayley's favourite toy...</td>\n",
       "      <td>16</td>\n",
       "      <td>True</td>\n",
       "      <td>False</td>\n",
       "      <td>AB</td>\n",
       "      <td>Hayley's Favourite Toys</td>\n",
       "      <td>childrens books</td>\n",
       "      <td>Publishing</td>\n",
       "      <td>2017-10-20</td>\n",
       "      <td>2017-10-13 17:01:37</td>\n",
       "      <td>1.0</td>\n",
       "      <td>CA</td>\n",
       "      <td>646.71</td>\n",
       "      <td>520.25</td>\n",
       "    </tr>\n",
       "  </tbody>\n",
       "</table>\n",
       "</div>"
      ],
      "text/plain": [
       "     backers_count                                              blurb  \\\n",
       "21              84  Astronauts onboard the space station are readi...   \n",
       "122              4    Pronounced /erÉ™ pÄ« mÉ™/. Did someone say pie?   \n",
       "153            374  Heartwarming tale of one familyâ€™s cherished ...   \n",
       "190             98  Teaching young kids about materials, starting ...   \n",
       "245             26  It's bedtime but one of Hayley's favourite toy...   \n",
       "\n",
       "     blurb_length  spotlight  staff_pick location_state  \\\n",
       "21             18      False        True             TX   \n",
       "122             8      False       False             OR   \n",
       "153            20       True       False             IL   \n",
       "190            24       True       False             CA   \n",
       "245            16       True       False             AB   \n",
       "\n",
       "                                                  name         category  \\\n",
       "21                               Story Time From Space  childrens books   \n",
       "122  Arie the Arapaima and His Marvelous Adventure ...  childrens books   \n",
       "153                                Oliver the Ornament  childrens books   \n",
       "190  A children's book about a little guy made of f...  childrens books   \n",
       "245                            Hayley's Favourite Toys  childrens books   \n",
       "\n",
       "    main_category    deadline             launched  state country  \\\n",
       "21     Publishing  2014-07-06  2014-05-07 19:44:28    0.0      US   \n",
       "122    Publishing  2017-06-07  2017-05-08 19:22:17    0.0      US   \n",
       "153    Publishing  2015-08-22  2015-07-13 14:15:45    1.0      US   \n",
       "190    Publishing  2015-11-19  2015-10-20 17:35:43    1.0      US   \n",
       "245    Publishing  2017-10-20  2017-10-13 17:01:37    1.0      CA   \n",
       "\n",
       "     usd_pledged_real  usd_goal_real  \n",
       "21            5547.00       35000.00  \n",
       "122            303.00        2900.00  \n",
       "153          52885.00       50000.00  \n",
       "190          10508.00       10000.00  \n",
       "245            646.71         520.25  "
      ]
     },
     "execution_count": 153,
     "metadata": {},
     "output_type": "execute_result"
    }
   ],
   "source": [
    "df_ks[df_ks['category']=='childrens books'].head()"
   ]
  },
  {
   "cell_type": "code",
   "execution_count": 154,
   "metadata": {},
   "outputs": [
    {
     "data": {
      "text/plain": [
       "Index(['backers_count', 'blurb', 'blurb_length', 'spotlight', 'staff_pick',\n",
       "       'location_state', 'name', 'category', 'main_category', 'deadline',\n",
       "       'launched', 'state', 'country', 'usd_pledged_real', 'usd_goal_real'],\n",
       "      dtype='object')"
      ]
     },
     "execution_count": 154,
     "metadata": {},
     "output_type": "execute_result"
    }
   ],
   "source": [
    "df_ks.columns"
   ]
  },
  {
   "cell_type": "code",
   "execution_count": 155,
   "metadata": {},
   "outputs": [],
   "source": [
    "# Trying out differnt Models off the shelf\n",
    "from sklearn.neighbors import KNeighborsClassifier\n",
    "from sklearn.tree import DecisionTreeClassifier\n",
    "from sklearn.naive_bayes import GaussianNB\n",
    "from sklearn.naive_bayes import BernoulliNB\n",
    "\n",
    "from sklearn.model_selection import train_test_split\n",
    "from sklearn.model_selection import cross_val_score\n",
    "from sklearn.model_selection import StratifiedKFold\n",
    "from sklearn.metrics import accuracy_score"
   ]
  },
  {
   "cell_type": "code",
   "execution_count": 156,
   "metadata": {},
   "outputs": [],
   "source": [
    "# For Visualizing Decision Trees (sklearn)\n",
    "#from sklearn.tree import DecisionTreeClassifier\n",
    "import pydotplus #pip install pydotplus\n",
    "from sklearn.tree import export_graphviz\n",
    "\n",
    "# Let’s write an auxiliary function that will return grid for further visualization.\n",
    "\n",
    "def tree_graph_to_png(tree, feature_names, png_file_to_save):\n",
    "    tree_str = export_graphviz(tree, feature_names=feature_names, \n",
    "                                     filled=True, out_file=None)\n",
    "    graph = pydotplus.graph_from_dot_data(tree_str)  \n",
    "    graph.write_png(png_file_to_save)\n",
    "    \n",
    "    \n",
    "def get_grid(data):\n",
    "    x_min, x_max = data[:, 0].min() - 1, data[:, 0].max() + 1\n",
    "    y_min, y_max = data[:, 1].min() - 1, data[:, 1].max() + 1\n",
    "    return np.meshgrid(np.arange(x_min, x_max, 0.01), np.arange(y_min, y_max, 0.01))"
   ]
  },
  {
   "cell_type": "code",
   "execution_count": 157,
   "metadata": {},
   "outputs": [],
   "source": [
    "# Initial model selection process\n",
    "models = []\n",
    "\n",
    "#models.append(('KNN', KNeighborsClassifier()))\n",
    "models.append(('DT', DecisionTreeClassifier()))\n",
    "#models.append(('GNB', GaussianNB()))\n",
    "#models.append((\"BNB\", BernoulliNB()))"
   ]
  },
  {
   "cell_type": "code",
   "execution_count": 158,
   "metadata": {},
   "outputs": [
    {
     "data": {
      "text/plain": [
       "0.0    124115\n",
       "1.0    118515\n",
       "Name: state, dtype: int64"
      ]
     },
     "execution_count": 158,
     "metadata": {},
     "output_type": "execute_result"
    }
   ],
   "source": [
    "df_ks['state'].value_counts()"
   ]
  },
  {
   "cell_type": "code",
   "execution_count": 164,
   "metadata": {},
   "outputs": [
    {
     "name": "stdout",
     "output_type": "stream",
     "text": [
      "<class 'pandas.core.frame.DataFrame'>\n",
      "RangeIndex: 242630 entries, 0 to 242629\n",
      "Columns: 160 entries, state to category_childrens books\n",
      "dtypes: float64(1), uint8(159)\n",
      "memory usage: 38.6 MB\n"
     ]
    }
   ],
   "source": [
    "# Need to do Encode the categorical data\n",
    "# Don't want to use LabelEncoder as we don't want to treat the nominal data as non-nominal\n",
    "# Have to use One-Hot Encoding -- however, it does increase the #of features by a lot\n",
    "# It may be worth removing some of the less popular types\n",
    "df_ks_dummies = pd.get_dummies(df_ks, columns=['category'], prefix=['category'])\n",
    "# Only look at some features\n",
    "df_ks_dummies = df_ks_dummies.drop(columns=['backers_count','blurb','blurb_length','spotlight','staff_pick','location_state','name','main_category','deadline','launched','country','usd_pledged_real','usd_goal_real'])\n",
    "# df_ks_dummies = df_ks_dummies.drop(columns=['backers_count','blurb','spotlight','staff_pick','location_state','name','main_category','deadline','launched','country','usd_pledged_real','usd_goal_real'])\n",
    "df_ks_dummies.info()"
   ]
  },
  {
   "cell_type": "code",
   "execution_count": 165,
   "metadata": {},
   "outputs": [],
   "source": [
    "# Features/Response\n",
    "# NOTE: trying features I think are most relevant\n",
    "feature_names = df_ks_dummies.drop(columns=['state']).columns\n",
    "X = df_ks_dummies[feature_names]\n",
    "y = df_ks_dummies.state"
   ]
  },
  {
   "cell_type": "code",
   "execution_count": 166,
   "metadata": {},
   "outputs": [
    {
     "data": {
      "text/plain": [
       "Index(['category_3D Printing', 'category_Academic', 'category_Accessories',\n",
       "       'category_Action', 'category_Animals', 'category_Animation',\n",
       "       'category_Anthologies', 'category_Apparel', 'category_Apps',\n",
       "       'category_Architecture',\n",
       "       ...\n",
       "       'category_Weaving', 'category_Web', 'category_Webcomics',\n",
       "       'category_Webseries', 'category_Woodworking', 'category_Workshops',\n",
       "       'category_World Music', 'category_Young Adult', 'category_Zines',\n",
       "       'category_childrens books'],\n",
       "      dtype='object', length=159)"
      ]
     },
     "execution_count": 166,
     "metadata": {},
     "output_type": "execute_result"
    }
   ],
   "source": [
    "feature_names"
   ]
  },
  {
   "cell_type": "code",
   "execution_count": 167,
   "metadata": {},
   "outputs": [],
   "source": [
    "# Train/Test split\n",
    "X_train, X_test, y_train, y_test = train_test_split(X, y, stratify = df_ks.state, random_state=42)"
   ]
  },
  {
   "cell_type": "code",
   "execution_count": 168,
   "metadata": {},
   "outputs": [
    {
     "name": "stdout",
     "output_type": "stream",
     "text": [
      "  Name     Score\n",
      "0   DT  0.716196\n"
     ]
    }
   ],
   "source": [
    "# Trying the decision tree\n",
    "names = []\n",
    "scores = []\n",
    "\n",
    "for name, model in models:\n",
    "    model.fit(X_train, y_train)\n",
    "    y_pred = model.predict(X_test)\n",
    "    scores.append(accuracy_score(y_test, y_pred))\n",
    "    names.append(name)\n",
    "\n",
    "tr_split = pd.DataFrame({'Name': names, 'Score': scores})\n",
    "print(tr_split)"
   ]
  },
  {
   "cell_type": "code",
   "execution_count": 169,
   "metadata": {},
   "outputs": [
    {
     "name": "stdout",
     "output_type": "stream",
     "text": [
      "  Name    Score\n",
      "0   DT  0.71562\n"
     ]
    }
   ],
   "source": [
    "strat_k_fold = StratifiedKFold(n_splits=10, random_state=10, shuffle=True)\n",
    "#strat_k_fold = StratifiedKFold(n_splits=10, random_state=10)\n",
    "\n",
    "names = []\n",
    "scores = []\n",
    "\n",
    "for name, model in models:\n",
    "    \n",
    "    score = cross_val_score(model, X, y, cv=strat_k_fold, scoring='accuracy').mean()\n",
    "    names.append(name)\n",
    "    scores.append(score)\n",
    "\n",
    "kf_cross_val = pd.DataFrame({'Name': names, 'Score': scores})\n",
    "print(kf_cross_val)"
   ]
  },
  {
   "cell_type": "code",
   "execution_count": 170,
   "metadata": {},
   "outputs": [
    {
     "name": "stdout",
     "output_type": "stream",
     "text": [
      "  Name     Score\n",
      "0   DT  0.716196\n"
     ]
    }
   ],
   "source": [
    "# Visualize the tree\n",
    "\n",
    "names = []\n",
    "scores = []\n",
    "\n",
    "#clf_tree = DecisionTreeClassifier()\n",
    "clf_tree = DecisionTreeClassifier(criterion='entropy',max_depth= 1, random_state=42)\n",
    "clf_tree.fit(X_train, y_train)\n",
    "y_pred = model.predict(X_test)\n",
    "scores.append(accuracy_score(y_test, y_pred))\n",
    "names.append(name)\n",
    "\n",
    "tr_split = pd.DataFrame({'Name': names, 'Score': scores})\n",
    "print(tr_split)"
   ]
  },
  {
   "cell_type": "code",
   "execution_count": 171,
   "metadata": {},
   "outputs": [
    {
     "name": "stdout",
     "output_type": "stream",
     "text": [
      "Accuracy score: 0.7161957202677306\n",
      "Precision score: 0.7496581127825598\n",
      "Recall score: 0.6290458672246785\n",
      "F1 score: 0.6840762694756932\n"
     ]
    }
   ],
   "source": [
    "from sklearn.metrics import accuracy_score, precision_score, recall_score, f1_score\n",
    "print('Accuracy score: {}'.format(accuracy_score(y_test, y_pred)))\n",
    "print('Precision score: {}'.format(precision_score(y_test, y_pred)))\n",
    "print('Recall score: {}'.format(recall_score(y_test, y_pred)))\n",
    "print('F1 score: {}'.format(f1_score(y_test, y_pred)))"
   ]
  },
  {
   "cell_type": "code",
   "execution_count": 172,
   "metadata": {},
   "outputs": [
    {
     "data": {
      "text/plain": [
       "1"
      ]
     },
     "execution_count": 172,
     "metadata": {},
     "output_type": "execute_result"
    }
   ],
   "source": [
    "clf_tree.get_depth()"
   ]
  },
  {
   "cell_type": "code",
   "execution_count": null,
   "metadata": {},
   "outputs": [],
   "source": [
    "tree_graph_to_png(clf_tree, feature_names=['Age'], \n",
    "                 png_file_to_save='topic3_decision_tree2.png')"
   ]
  },
  {
   "cell_type": "code",
   "execution_count": null,
   "metadata": {},
   "outputs": [],
   "source": [
    "# Can use this to find decision path of different inputs:\n",
    "# clf_tree.decision_path(X[, check_input])"
   ]
  }
 ],
 "metadata": {
  "kernelspec": {
   "display_name": "Python 3",
   "language": "python",
   "name": "python3"
  },
  "language_info": {
   "codemirror_mode": {
    "name": "ipython",
    "version": 3
   },
   "file_extension": ".py",
   "mimetype": "text/x-python",
   "name": "python",
   "nbconvert_exporter": "python",
   "pygments_lexer": "ipython3",
   "version": "3.8.3"
  }
 },
 "nbformat": 4,
 "nbformat_minor": 4
}
