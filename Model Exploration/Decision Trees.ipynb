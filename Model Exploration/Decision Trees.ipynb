{
 "cells": [
  {
   "cell_type": "markdown",
   "metadata": {},
   "source": [
    "### Notes:\n",
    "* Decision trees can perform poorly if there are too many irrelevant values. Feature selection can help to improve accuracy by eliminating these featues. "
   ]
  },
  {
   "cell_type": "code",
   "execution_count": 2,
   "metadata": {},
   "outputs": [],
   "source": [
    "# Importing libraries\n",
    "# we don't like warnings; you can comment the following 2 lines if you'd like to\n",
    "import warnings\n",
    "warnings.filterwarnings('ignore')\n",
    "import numpy as np\n",
    "import pandas as pd\n",
    "import seaborn as sns; sns.set()\n",
    "from matplotlib import pyplot as plt\n",
    "%config InlineBackend.figure_format = 'retina'"
   ]
  },
  {
   "cell_type": "code",
   "execution_count": 3,
   "metadata": {},
   "outputs": [],
   "source": [
    "# Importing data\n",
    "df_ks = pd.read_csv(\"../Data/Cleaned/joined_data.csv\")"
   ]
  },
  {
   "cell_type": "code",
   "execution_count": 13,
   "metadata": {},
   "outputs": [
    {
     "data": {
      "text/html": [
       "<div>\n",
       "<style scoped>\n",
       "    .dataframe tbody tr th:only-of-type {\n",
       "        vertical-align: middle;\n",
       "    }\n",
       "\n",
       "    .dataframe tbody tr th {\n",
       "        vertical-align: top;\n",
       "    }\n",
       "\n",
       "    .dataframe thead th {\n",
       "        text-align: right;\n",
       "    }\n",
       "</style>\n",
       "<table border=\"1\" class=\"dataframe\">\n",
       "  <thead>\n",
       "    <tr style=\"text-align: right;\">\n",
       "      <th></th>\n",
       "      <th>backers_count</th>\n",
       "      <th>blurb_length</th>\n",
       "      <th>spotlight</th>\n",
       "      <th>staff_pick</th>\n",
       "      <th>location_state</th>\n",
       "      <th>main_category</th>\n",
       "      <th>state</th>\n",
       "      <th>country</th>\n",
       "      <th>usd_pledged_real</th>\n",
       "      <th>usd_goal_real</th>\n",
       "      <th>...</th>\n",
       "      <th>category_Weaving</th>\n",
       "      <th>category_Web</th>\n",
       "      <th>category_Webcomics</th>\n",
       "      <th>category_Webseries</th>\n",
       "      <th>category_Woodworking</th>\n",
       "      <th>category_Workshops</th>\n",
       "      <th>category_World Music</th>\n",
       "      <th>category_Young Adult</th>\n",
       "      <th>category_Zines</th>\n",
       "      <th>category_childrens books</th>\n",
       "    </tr>\n",
       "  </thead>\n",
       "  <tbody>\n",
       "    <tr>\n",
       "      <th>0</th>\n",
       "      <td>4</td>\n",
       "      <td>24</td>\n",
       "      <td>False</td>\n",
       "      <td>False</td>\n",
       "      <td>OH</td>\n",
       "      <td>Music</td>\n",
       "      <td>0.0</td>\n",
       "      <td>US</td>\n",
       "      <td>62.00</td>\n",
       "      <td>15000.00</td>\n",
       "      <td>...</td>\n",
       "      <td>0</td>\n",
       "      <td>0</td>\n",
       "      <td>0</td>\n",
       "      <td>0</td>\n",
       "      <td>0</td>\n",
       "      <td>0</td>\n",
       "      <td>1</td>\n",
       "      <td>0</td>\n",
       "      <td>0</td>\n",
       "      <td>0</td>\n",
       "    </tr>\n",
       "    <tr>\n",
       "      <th>1</th>\n",
       "      <td>11</td>\n",
       "      <td>24</td>\n",
       "      <td>True</td>\n",
       "      <td>False</td>\n",
       "      <td>Scotland</td>\n",
       "      <td>Art</td>\n",
       "      <td>1.0</td>\n",
       "      <td>GB</td>\n",
       "      <td>266.65</td>\n",
       "      <td>231.20</td>\n",
       "      <td>...</td>\n",
       "      <td>0</td>\n",
       "      <td>0</td>\n",
       "      <td>0</td>\n",
       "      <td>0</td>\n",
       "      <td>0</td>\n",
       "      <td>0</td>\n",
       "      <td>0</td>\n",
       "      <td>0</td>\n",
       "      <td>0</td>\n",
       "      <td>0</td>\n",
       "    </tr>\n",
       "    <tr>\n",
       "      <th>2</th>\n",
       "      <td>18</td>\n",
       "      <td>24</td>\n",
       "      <td>False</td>\n",
       "      <td>False</td>\n",
       "      <td>IL</td>\n",
       "      <td>Food</td>\n",
       "      <td>0.0</td>\n",
       "      <td>US</td>\n",
       "      <td>776.00</td>\n",
       "      <td>20000.00</td>\n",
       "      <td>...</td>\n",
       "      <td>0</td>\n",
       "      <td>0</td>\n",
       "      <td>0</td>\n",
       "      <td>0</td>\n",
       "      <td>0</td>\n",
       "      <td>0</td>\n",
       "      <td>0</td>\n",
       "      <td>0</td>\n",
       "      <td>0</td>\n",
       "      <td>0</td>\n",
       "    </tr>\n",
       "    <tr>\n",
       "      <th>3</th>\n",
       "      <td>42</td>\n",
       "      <td>23</td>\n",
       "      <td>False</td>\n",
       "      <td>True</td>\n",
       "      <td>BC</td>\n",
       "      <td>Fashion</td>\n",
       "      <td>0.0</td>\n",
       "      <td>CA</td>\n",
       "      <td>2144.39</td>\n",
       "      <td>13795.22</td>\n",
       "      <td>...</td>\n",
       "      <td>0</td>\n",
       "      <td>0</td>\n",
       "      <td>0</td>\n",
       "      <td>0</td>\n",
       "      <td>0</td>\n",
       "      <td>0</td>\n",
       "      <td>0</td>\n",
       "      <td>0</td>\n",
       "      <td>0</td>\n",
       "      <td>0</td>\n",
       "    </tr>\n",
       "    <tr>\n",
       "      <th>4</th>\n",
       "      <td>68</td>\n",
       "      <td>13</td>\n",
       "      <td>True</td>\n",
       "      <td>False</td>\n",
       "      <td>WI</td>\n",
       "      <td>Food</td>\n",
       "      <td>1.0</td>\n",
       "      <td>US</td>\n",
       "      <td>3239.00</td>\n",
       "      <td>2500.00</td>\n",
       "      <td>...</td>\n",
       "      <td>0</td>\n",
       "      <td>0</td>\n",
       "      <td>0</td>\n",
       "      <td>0</td>\n",
       "      <td>0</td>\n",
       "      <td>0</td>\n",
       "      <td>0</td>\n",
       "      <td>0</td>\n",
       "      <td>0</td>\n",
       "      <td>0</td>\n",
       "    </tr>\n",
       "  </tbody>\n",
       "</table>\n",
       "<p>5 rows × 177 columns</p>\n",
       "</div>"
      ],
      "text/plain": [
       "   backers_count  blurb_length  spotlight  staff_pick location_state  \\\n",
       "0              4            24      False       False             OH   \n",
       "1             11            24       True       False       Scotland   \n",
       "2             18            24      False       False             IL   \n",
       "3             42            23      False        True             BC   \n",
       "4             68            13       True       False             WI   \n",
       "\n",
       "  main_category  state country  usd_pledged_real  usd_goal_real  ...  \\\n",
       "0         Music    0.0      US             62.00       15000.00  ...   \n",
       "1           Art    1.0      GB            266.65         231.20  ...   \n",
       "2          Food    0.0      US            776.00       20000.00  ...   \n",
       "3       Fashion    0.0      CA           2144.39       13795.22  ...   \n",
       "4          Food    1.0      US           3239.00        2500.00  ...   \n",
       "\n",
       "   category_Weaving  category_Web  category_Webcomics  category_Webseries  \\\n",
       "0                 0             0                   0                   0   \n",
       "1                 0             0                   0                   0   \n",
       "2                 0             0                   0                   0   \n",
       "3                 0             0                   0                   0   \n",
       "4                 0             0                   0                   0   \n",
       "\n",
       "   category_Woodworking  category_Workshops  category_World Music  \\\n",
       "0                     0                   0                     1   \n",
       "1                     0                   0                     0   \n",
       "2                     0                   0                     0   \n",
       "3                     0                   0                     0   \n",
       "4                     0                   0                     0   \n",
       "\n",
       "   category_Young Adult  category_Zines  category_childrens books  \n",
       "0                     0               0                         0  \n",
       "1                     0               0                         0  \n",
       "2                     0               0                         0  \n",
       "3                     0               0                         0  \n",
       "4                     0               0                         0  \n",
       "\n",
       "[5 rows x 177 columns]"
      ]
     },
     "execution_count": 13,
     "metadata": {},
     "output_type": "execute_result"
    }
   ],
   "source": [
    "df_ks.head()"
   ]
  },
  {
   "cell_type": "code",
   "execution_count": 5,
   "metadata": {},
   "outputs": [],
   "source": [
    "# Change category value: Children's Books --> childrens books\n",
    "df_ks['category'] = df_ks['category'].replace(['Children\\'s Books'], 'childrens books')"
   ]
  },
  {
   "cell_type": "code",
   "execution_count": 6,
   "metadata": {},
   "outputs": [
    {
     "data": {
      "text/html": [
       "<div>\n",
       "<style scoped>\n",
       "    .dataframe tbody tr th:only-of-type {\n",
       "        vertical-align: middle;\n",
       "    }\n",
       "\n",
       "    .dataframe tbody tr th {\n",
       "        vertical-align: top;\n",
       "    }\n",
       "\n",
       "    .dataframe thead th {\n",
       "        text-align: right;\n",
       "    }\n",
       "</style>\n",
       "<table border=\"1\" class=\"dataframe\">\n",
       "  <thead>\n",
       "    <tr style=\"text-align: right;\">\n",
       "      <th></th>\n",
       "      <th>backers_count</th>\n",
       "      <th>blurb</th>\n",
       "      <th>blurb_length</th>\n",
       "      <th>spotlight</th>\n",
       "      <th>staff_pick</th>\n",
       "      <th>location_state</th>\n",
       "      <th>name</th>\n",
       "      <th>category</th>\n",
       "      <th>main_category</th>\n",
       "      <th>state</th>\n",
       "      <th>...</th>\n",
       "      <th>usd_pledged_real</th>\n",
       "      <th>usd_goal_real</th>\n",
       "      <th>launch_hour</th>\n",
       "      <th>launch_day</th>\n",
       "      <th>launch_month</th>\n",
       "      <th>launch_year</th>\n",
       "      <th>deadline_day</th>\n",
       "      <th>deadline_month</th>\n",
       "      <th>deadline_year</th>\n",
       "      <th>duration_days</th>\n",
       "    </tr>\n",
       "  </thead>\n",
       "  <tbody>\n",
       "    <tr>\n",
       "      <th>21</th>\n",
       "      <td>84</td>\n",
       "      <td>Astronauts onboard the space station are readi...</td>\n",
       "      <td>18</td>\n",
       "      <td>False</td>\n",
       "      <td>True</td>\n",
       "      <td>TX</td>\n",
       "      <td>Story Time From Space</td>\n",
       "      <td>childrens books</td>\n",
       "      <td>Publishing</td>\n",
       "      <td>0.0</td>\n",
       "      <td>...</td>\n",
       "      <td>5547.00</td>\n",
       "      <td>35000.00</td>\n",
       "      <td>19</td>\n",
       "      <td>7</td>\n",
       "      <td>5</td>\n",
       "      <td>2014</td>\n",
       "      <td>6</td>\n",
       "      <td>7</td>\n",
       "      <td>2014</td>\n",
       "      <td>60</td>\n",
       "    </tr>\n",
       "    <tr>\n",
       "      <th>122</th>\n",
       "      <td>4</td>\n",
       "      <td>Pronounced /erÉ™ pÄ« mÉ™/. Did someone say pie?</td>\n",
       "      <td>8</td>\n",
       "      <td>False</td>\n",
       "      <td>False</td>\n",
       "      <td>OR</td>\n",
       "      <td>Arie the Arapaima and His Marvelous Adventure ...</td>\n",
       "      <td>childrens books</td>\n",
       "      <td>Publishing</td>\n",
       "      <td>0.0</td>\n",
       "      <td>...</td>\n",
       "      <td>303.00</td>\n",
       "      <td>2900.00</td>\n",
       "      <td>19</td>\n",
       "      <td>8</td>\n",
       "      <td>5</td>\n",
       "      <td>2017</td>\n",
       "      <td>7</td>\n",
       "      <td>6</td>\n",
       "      <td>2017</td>\n",
       "      <td>30</td>\n",
       "    </tr>\n",
       "    <tr>\n",
       "      <th>153</th>\n",
       "      <td>374</td>\n",
       "      <td>Heartwarming tale of one familyâ€™s cherished ...</td>\n",
       "      <td>20</td>\n",
       "      <td>True</td>\n",
       "      <td>False</td>\n",
       "      <td>IL</td>\n",
       "      <td>Oliver the Ornament</td>\n",
       "      <td>childrens books</td>\n",
       "      <td>Publishing</td>\n",
       "      <td>1.0</td>\n",
       "      <td>...</td>\n",
       "      <td>52885.00</td>\n",
       "      <td>50000.00</td>\n",
       "      <td>14</td>\n",
       "      <td>13</td>\n",
       "      <td>7</td>\n",
       "      <td>2015</td>\n",
       "      <td>22</td>\n",
       "      <td>8</td>\n",
       "      <td>2015</td>\n",
       "      <td>40</td>\n",
       "    </tr>\n",
       "    <tr>\n",
       "      <th>190</th>\n",
       "      <td>98</td>\n",
       "      <td>Teaching young kids about materials, starting ...</td>\n",
       "      <td>24</td>\n",
       "      <td>True</td>\n",
       "      <td>False</td>\n",
       "      <td>CA</td>\n",
       "      <td>A children's book about a little guy made of f...</td>\n",
       "      <td>childrens books</td>\n",
       "      <td>Publishing</td>\n",
       "      <td>1.0</td>\n",
       "      <td>...</td>\n",
       "      <td>10508.00</td>\n",
       "      <td>10000.00</td>\n",
       "      <td>17</td>\n",
       "      <td>20</td>\n",
       "      <td>10</td>\n",
       "      <td>2015</td>\n",
       "      <td>19</td>\n",
       "      <td>11</td>\n",
       "      <td>2015</td>\n",
       "      <td>30</td>\n",
       "    </tr>\n",
       "    <tr>\n",
       "      <th>245</th>\n",
       "      <td>26</td>\n",
       "      <td>It's bedtime but one of Hayley's favourite toy...</td>\n",
       "      <td>16</td>\n",
       "      <td>True</td>\n",
       "      <td>False</td>\n",
       "      <td>AB</td>\n",
       "      <td>Hayley's Favourite Toys</td>\n",
       "      <td>childrens books</td>\n",
       "      <td>Publishing</td>\n",
       "      <td>1.0</td>\n",
       "      <td>...</td>\n",
       "      <td>646.71</td>\n",
       "      <td>520.25</td>\n",
       "      <td>17</td>\n",
       "      <td>13</td>\n",
       "      <td>10</td>\n",
       "      <td>2017</td>\n",
       "      <td>20</td>\n",
       "      <td>10</td>\n",
       "      <td>2017</td>\n",
       "      <td>7</td>\n",
       "    </tr>\n",
       "  </tbody>\n",
       "</table>\n",
       "<p>5 rows × 21 columns</p>\n",
       "</div>"
      ],
      "text/plain": [
       "     backers_count                                              blurb  \\\n",
       "21              84  Astronauts onboard the space station are readi...   \n",
       "122              4    Pronounced /erÉ™ pÄ« mÉ™/. Did someone say pie?   \n",
       "153            374  Heartwarming tale of one familyâ€™s cherished ...   \n",
       "190             98  Teaching young kids about materials, starting ...   \n",
       "245             26  It's bedtime but one of Hayley's favourite toy...   \n",
       "\n",
       "     blurb_length  spotlight  staff_pick location_state  \\\n",
       "21             18      False        True             TX   \n",
       "122             8      False       False             OR   \n",
       "153            20       True       False             IL   \n",
       "190            24       True       False             CA   \n",
       "245            16       True       False             AB   \n",
       "\n",
       "                                                  name         category  \\\n",
       "21                               Story Time From Space  childrens books   \n",
       "122  Arie the Arapaima and His Marvelous Adventure ...  childrens books   \n",
       "153                                Oliver the Ornament  childrens books   \n",
       "190  A children's book about a little guy made of f...  childrens books   \n",
       "245                            Hayley's Favourite Toys  childrens books   \n",
       "\n",
       "    main_category  state  ... usd_pledged_real  usd_goal_real  launch_hour  \\\n",
       "21     Publishing    0.0  ...          5547.00       35000.00           19   \n",
       "122    Publishing    0.0  ...           303.00        2900.00           19   \n",
       "153    Publishing    1.0  ...         52885.00       50000.00           14   \n",
       "190    Publishing    1.0  ...         10508.00       10000.00           17   \n",
       "245    Publishing    1.0  ...           646.71         520.25           17   \n",
       "\n",
       "     launch_day  launch_month  launch_year  deadline_day  deadline_month  \\\n",
       "21            7             5         2014             6               7   \n",
       "122           8             5         2017             7               6   \n",
       "153          13             7         2015            22               8   \n",
       "190          20            10         2015            19              11   \n",
       "245          13            10         2017            20              10   \n",
       "\n",
       "     deadline_year  duration_days  \n",
       "21            2014             60  \n",
       "122           2017             30  \n",
       "153           2015             40  \n",
       "190           2015             30  \n",
       "245           2017              7  \n",
       "\n",
       "[5 rows x 21 columns]"
      ]
     },
     "execution_count": 6,
     "metadata": {},
     "output_type": "execute_result"
    }
   ],
   "source": [
    "df_ks[df_ks['category']=='childrens books'].head()"
   ]
  },
  {
   "cell_type": "code",
   "execution_count": 7,
   "metadata": {},
   "outputs": [
    {
     "data": {
      "text/plain": [
       "0.0    124115\n",
       "1.0    118515\n",
       "Name: state, dtype: int64"
      ]
     },
     "execution_count": 7,
     "metadata": {},
     "output_type": "execute_result"
    }
   ],
   "source": [
    "df_ks['state'].value_counts()"
   ]
  },
  {
   "cell_type": "markdown",
   "metadata": {},
   "source": [
    "# Decision Trees"
   ]
  },
  {
   "cell_type": "code",
   "execution_count": 8,
   "metadata": {},
   "outputs": [],
   "source": [
    "# Trying out Model off the shelf\n",
    "from sklearn.tree import DecisionTreeClassifier\n",
    "\n",
    "from sklearn.model_selection import train_test_split\n",
    "from sklearn.model_selection import cross_val_score\n",
    "from sklearn.model_selection import StratifiedKFold\n",
    "from sklearn.model_selection import cross_validate\n",
    "from sklearn.metrics import accuracy_score"
   ]
  },
  {
   "cell_type": "code",
   "execution_count": 9,
   "metadata": {},
   "outputs": [],
   "source": [
    "# Initial model selection process\n",
    "models = []\n",
    "models.append(('DT', DecisionTreeClassifier()))"
   ]
  },
  {
   "cell_type": "markdown",
   "metadata": {},
   "source": [
    "## Encoding Categorical Data"
   ]
  },
  {
   "cell_type": "markdown",
   "metadata": {},
   "source": [
    "* Need to do Encode the categorical data\n",
    "* Don't want to use LabelEncoder as we don't want to treat the nominal data as non-nominal\n",
    "* Have to use One-Hot Encoding -- however, it does increase the #of features by a lot\n",
    "* It may be worth removing some of the less popular types"
   ]
  },
  {
   "cell_type": "code",
   "execution_count": 10,
   "metadata": {},
   "outputs": [],
   "source": [
    "# Encoding Category\n",
    "df_ks = pd.get_dummies(df_ks, columns=['category'], prefix=['category'])"
   ]
  },
  {
   "cell_type": "code",
   "execution_count": 10,
   "metadata": {},
   "outputs": [],
   "source": [
    "# Encoding Main_Category -- This is redundant, so remove if slow\n",
    "df_ks = pd.get_dummies(df_ks, columns=['main_category'], prefix=['main_category'])"
   ]
  },
  {
   "cell_type": "code",
   "execution_count": 11,
   "metadata": {},
   "outputs": [],
   "source": [
    "# Encoding location_state\n",
    "df_ks = pd.get_dummies(df_ks, columns=['location_state'], prefix=['loc_state'])"
   ]
  },
  {
   "cell_type": "code",
   "execution_count": 12,
   "metadata": {},
   "outputs": [],
   "source": [
    "# Encoding country\n",
    "df_ks = pd.get_dummies(df_ks, columns=['country'], prefix=['country'])"
   ]
  },
  {
   "cell_type": "code",
   "execution_count": 11,
   "metadata": {},
   "outputs": [],
   "source": [
    "# Remove Text-based Description\n",
    "df_ks = df_ks.drop(columns=['blurb','name'])"
   ]
  },
  {
   "cell_type": "markdown",
   "metadata": {},
   "source": [
    "## Baseline Decision Tree 1 -- On all Features (Including Trivial) "
   ]
  },
  {
   "cell_type": "code",
   "execution_count": 14,
   "metadata": {},
   "outputs": [],
   "source": [
    "# Looking at all features (except for text, and self-generated)\n",
    "feature_names = df_ks.drop(columns=['state','duration_days']).columns\n",
    "X = df_ks[feature_names]\n",
    "y = df_ks.state"
   ]
  },
  {
   "cell_type": "code",
   "execution_count": 15,
   "metadata": {},
   "outputs": [],
   "source": [
    "# Train/Test split\n",
    "X_train, X_test, y_train, y_test = train_test_split(X, y, stratify = df_ks.state, random_state=42)"
   ]
  },
  {
   "cell_type": "code",
   "execution_count": 16,
   "metadata": {},
   "outputs": [
    {
     "name": "stdout",
     "output_type": "stream",
     "text": [
      "  Name     Score\n",
      "0   DT  0.999192\n"
     ]
    }
   ],
   "source": [
    "# Trying the decision tree\n",
    "names = []\n",
    "scores = []\n",
    "\n",
    "for name, model in models:\n",
    "    model.fit(X_train, y_train)\n",
    "    y_pred = model.predict(X_test)\n",
    "    scores.append(accuracy_score(y_test, y_pred))\n",
    "    names.append(name)\n",
    "\n",
    "tr_split = pd.DataFrame({'Name': names, 'Score': scores})\n",
    "print(tr_split)"
   ]
  },
  {
   "cell_type": "markdown",
   "metadata": {},
   "source": [
    "### *Likely due to the categorical variables, I couldn't do a cross-validation run*"
   ]
  },
  {
   "cell_type": "markdown",
   "metadata": {},
   "source": [
    "## Baseline Decision Tree 2 -- Hand Picked\n",
    "Note we choose interesting and non-trivial "
   ]
  },
  {
   "cell_type": "code",
   "execution_count": 17,
   "metadata": {},
   "outputs": [],
   "source": [
    "# Dropping Un-interesting Features or generated\n",
    "feature_names = df_ks.drop(columns=['state','backers_count','spotlight','staff_pick','usd_pledged_real','duration_days']).columns\n",
    "X = df_ks[feature_names]\n",
    "y = df_ks.state"
   ]
  },
  {
   "cell_type": "code",
   "execution_count": 18,
   "metadata": {},
   "outputs": [],
   "source": [
    "# Train/Test split\n",
    "X_train, X_test, y_train, y_test = train_test_split(X, y, stratify = df_ks.state, random_state=42)"
   ]
  },
  {
   "cell_type": "code",
   "execution_count": 19,
   "metadata": {},
   "outputs": [
    {
     "name": "stdout",
     "output_type": "stream",
     "text": [
      "  Name   Score\n",
      "0   DT  0.6778\n"
     ]
    }
   ],
   "source": [
    "# Trying the decision tree\n",
    "names = []\n",
    "scores = []\n",
    "\n",
    "for name, model in models:\n",
    "    model.fit(X_train, y_train)\n",
    "    y_pred = model.predict(X_test)\n",
    "    scores.append(accuracy_score(y_test, y_pred))\n",
    "    names.append(name)\n",
    "\n",
    "tr_split = pd.DataFrame({'Name': names, 'Score': scores})\n",
    "print(tr_split)"
   ]
  },
  {
   "cell_type": "code",
   "execution_count": 20,
   "metadata": {},
   "outputs": [
    {
     "name": "stdout",
     "output_type": "stream",
     "text": [
      "  Name   Score\n",
      "0   DT  0.6787\n"
     ]
    }
   ],
   "source": [
    "strat_k_fold = StratifiedKFold(n_splits=5, random_state=10, shuffle=True)\n",
    "#strat_k_fold = StratifiedKFold(n_splits=10, random_state=10)\n",
    "\n",
    "names = []\n",
    "scores = []\n",
    "\n",
    "for name, model in models:\n",
    "    \n",
    "    accuracy = cross_val_score(model, X, y, cv=strat_k_fold, scoring='accuracy').mean()\n",
    "    \n",
    "    names.append(name)\n",
    "    scores.append(accuracy)\n",
    "\n",
    "kf_cross_val = pd.DataFrame({'Name': names, 'Score': scores})\n",
    "print(kf_cross_val)"
   ]
  },
  {
   "cell_type": "code",
   "execution_count": 23,
   "metadata": {},
   "outputs": [
    {
     "name": "stdout",
     "output_type": "stream",
     "text": [
      "  Name                                              Score\n",
      "0   DT  {'fit_time': [32.337549448013306, 34.379485130...\n"
     ]
    }
   ],
   "source": [
    "strat_k_fold = StratifiedKFold(n_splits=5, random_state=10, shuffle=True)\n",
    "#strat_k_fold = StratifiedKFold(n_splits=10, random_state=10)\n",
    "\n",
    "names = []\n",
    "scores = []\n",
    "scorings = ['accuracy','precision','recall','f1']\n",
    "\n",
    "for name, model in models:\n",
    "    \n",
    "    score = cross_validate(model, X, y, cv=strat_k_fold, scoring=scorings)\n",
    "    \n",
    "    names.append(name)\n",
    "    scores.append(score)\n",
    "\n",
    "kf_cross_val = pd.DataFrame({'Name': names, 'Score': scores})\n",
    "print(kf_cross_val)"
   ]
  },
  {
   "cell_type": "code",
   "execution_count": 45,
   "metadata": {},
   "outputs": [
    {
     "data": {
      "text/plain": [
       "0.6787742653422907"
      ]
     },
     "execution_count": 45,
     "metadata": {},
     "output_type": "execute_result"
    }
   ],
   "source": [
    "scores[0]['test_accuracy'].mean()"
   ]
  },
  {
   "cell_type": "code",
   "execution_count": 46,
   "metadata": {},
   "outputs": [
    {
     "data": {
      "text/plain": [
       "0.6721449251018595"
      ]
     },
     "execution_count": 46,
     "metadata": {},
     "output_type": "execute_result"
    }
   ],
   "source": [
    "scores[0]['test_precision'].mean()"
   ]
  },
  {
   "cell_type": "code",
   "execution_count": 47,
   "metadata": {},
   "outputs": [
    {
     "data": {
      "text/plain": [
       "0.668421718769776"
      ]
     },
     "execution_count": 47,
     "metadata": {},
     "output_type": "execute_result"
    }
   ],
   "source": [
    "scores[0]['test_recall'].mean()"
   ]
  },
  {
   "cell_type": "code",
   "execution_count": 48,
   "metadata": {},
   "outputs": [
    {
     "data": {
      "text/plain": [
       "0.6702747817464727"
      ]
     },
     "execution_count": 48,
     "metadata": {},
     "output_type": "execute_result"
    }
   ],
   "source": [
    "scores[0]['test_f1'].mean()"
   ]
  },
  {
   "cell_type": "code",
   "execution_count": 44,
   "metadata": {},
   "outputs": [
    {
     "name": "stdout",
     "output_type": "stream",
     "text": [
      "fit_time  :)  [32.33754945 34.37948513 33.76241851 33.36511397 33.24326229]\n",
      "score_time  :)  [0.49799705 0.51598883 0.41903496 0.41240621 0.51055026]\n",
      "test_accuracy  :)  [0.67701851 0.67720397 0.67959444 0.68239707 0.67765734]\n",
      "test_precision  :)  [0.66928072 0.67116638 0.67369542 0.67639675 0.67018537]\n",
      "test_recall  :)  [0.66970426 0.66493693 0.66721512 0.67063241 0.66961988]\n",
      "test_f1  :)  [0.66949242 0.66803713 0.67043961 0.67350225 0.6699025 ]\n"
     ]
    }
   ],
   "source": [
    "for key, value in scores[0].items():\n",
    "    print(key, ' :) ', value)"
   ]
  },
  {
   "cell_type": "markdown",
   "metadata": {},
   "source": [
    "## Testing Top 10 Important Features\n",
    "Excluding those not helpful to future project owners"
   ]
  },
  {
   "cell_type": "markdown",
   "metadata": {},
   "source": [
    "1. count_7_days\n",
    "2. usd_goal_real\n",
    "3. optimism\n",
    "4. launch_day\n",
    "5. deadline_day\n",
    "6. blurb_length\n",
    "7. duration_days\n",
    "8. launch month\n",
    "9. deadline month\n",
    "10. category"
   ]
  },
  {
   "cell_type": "code",
   "execution_count": 50,
   "metadata": {},
   "outputs": [],
   "source": [
    "# Importing data\n",
    "df = pd.read_csv(\"../Data/Cleaned/generated_data.csv\")"
   ]
  },
  {
   "cell_type": "code",
   "execution_count": 51,
   "metadata": {},
   "outputs": [],
   "source": [
    "# Encoding Category\n",
    "df = pd.get_dummies(df, columns=['category'], prefix=['category'])"
   ]
  },
  {
   "cell_type": "code",
   "execution_count": 52,
   "metadata": {},
   "outputs": [],
   "source": [
    "# Keeping only Top 10 Features listed above\n",
    "feature_names = df.drop(columns=['backers_count', 'blurb', 'spotlight', 'staff_pick',\n",
    "       'location_state', 'name', 'main_category', 'deadline',\n",
    "       'launched', 'state', 'country', 'usd_pledged_real',\n",
    "       'launch_hour', 'launch_year', 'deadline_year']).columns\n",
    "X = df[feature_names]\n",
    "y = df.state"
   ]
  },
  {
   "cell_type": "code",
   "execution_count": 53,
   "metadata": {},
   "outputs": [],
   "source": [
    "# Train/Test split\n",
    "X_train, X_test, y_train, y_test = train_test_split(X, y, stratify = df.state, random_state=42)"
   ]
  },
  {
   "cell_type": "code",
   "execution_count": 54,
   "metadata": {},
   "outputs": [
    {
     "name": "stdout",
     "output_type": "stream",
     "text": [
      "  Name     Score\n",
      "0   DT  0.662518\n"
     ]
    }
   ],
   "source": [
    "# Trying the decision tree\n",
    "names = []\n",
    "scores = []\n",
    "\n",
    "for name, model in models:\n",
    "    model.fit(X_train, y_train)\n",
    "    y_pred = model.predict(X_test)\n",
    "    scores.append(accuracy_score(y_test, y_pred))\n",
    "    names.append(name)\n",
    "\n",
    "tr_split = pd.DataFrame({'Name': names, 'Score': scores})\n",
    "print(tr_split)"
   ]
  },
  {
   "cell_type": "code",
   "execution_count": 55,
   "metadata": {},
   "outputs": [
    {
     "name": "stdout",
     "output_type": "stream",
     "text": [
      "  Name                                              Score\n",
      "0   DT  {'fit_time': [18.654775619506836, 19.836926221...\n"
     ]
    }
   ],
   "source": [
    "strat_k_fold = StratifiedKFold(n_splits=5, random_state=10, shuffle=True)\n",
    "#strat_k_fold = StratifiedKFold(n_splits=10, random_state=10)\n",
    "\n",
    "names = []\n",
    "scores = []\n",
    "scorings = ['accuracy','precision','recall','f1']\n",
    "\n",
    "for name, model in models:\n",
    "    \n",
    "    score = cross_validate(model, X, y, cv=strat_k_fold, scoring=scorings)\n",
    "    \n",
    "    names.append(name)\n",
    "    scores.append(score)\n",
    "\n",
    "kf_cross_val = pd.DataFrame({'Name': names, 'Score': scores})\n",
    "print(kf_cross_val)"
   ]
  },
  {
   "cell_type": "code",
   "execution_count": 56,
   "metadata": {},
   "outputs": [
    {
     "data": {
      "text/plain": [
       "0.6628693896055722"
      ]
     },
     "execution_count": 56,
     "metadata": {},
     "output_type": "execute_result"
    }
   ],
   "source": [
    "scores[0]['test_accuracy'].mean()"
   ]
  },
  {
   "cell_type": "code",
   "execution_count": 57,
   "metadata": {},
   "outputs": [
    {
     "data": {
      "text/plain": [
       "0.6557163883358591"
      ]
     },
     "execution_count": 57,
     "metadata": {},
     "output_type": "execute_result"
    }
   ],
   "source": [
    "scores[0]['test_precision'].mean()"
   ]
  },
  {
   "cell_type": "code",
   "execution_count": 58,
   "metadata": {},
   "outputs": [
    {
     "data": {
      "text/plain": [
       "0.652305615322955"
      ]
     },
     "execution_count": 58,
     "metadata": {},
     "output_type": "execute_result"
    }
   ],
   "source": [
    "scores[0]['test_recall'].mean()"
   ]
  },
  {
   "cell_type": "code",
   "execution_count": 59,
   "metadata": {},
   "outputs": [
    {
     "data": {
      "text/plain": [
       "0.654003251437925"
      ]
     },
     "execution_count": 59,
     "metadata": {},
     "output_type": "execute_result"
    }
   ],
   "source": [
    "scores[0]['test_f1'].mean()"
   ]
  },
  {
   "cell_type": "code",
   "execution_count": 60,
   "metadata": {},
   "outputs": [
    {
     "name": "stdout",
     "output_type": "stream",
     "text": [
      "fit_time  :)  [18.65477562 19.83692622 17.92177725 17.70283413 19.82046676]\n",
      "score_time  :)  [0.20183778 0.24835968 0.18318629 0.16023898 0.20871282]\n",
      "test_accuracy  :)  [0.66069736 0.66022339 0.66488068 0.66418003 0.66436549]\n",
      "test_precision  :)  [0.65261027 0.65383139 0.65738821 0.65668232 0.65806974]\n",
      "test_recall  :)  [0.65291313 0.64688014 0.65561321 0.65485382 0.65126777]\n",
      "test_f1  :)  [0.65276167 0.65033719 0.65649951 0.65576679 0.65465109]\n"
     ]
    }
   ],
   "source": [
    "for key, value in scores[0].items():\n",
    "    print(key, ' :) ', value)"
   ]
  },
  {
   "cell_type": "code",
   "execution_count": null,
   "metadata": {},
   "outputs": [],
   "source": []
  },
  {
   "cell_type": "code",
   "execution_count": null,
   "metadata": {},
   "outputs": [],
   "source": []
  },
  {
   "cell_type": "code",
   "execution_count": null,
   "metadata": {},
   "outputs": [],
   "source": []
  }
 ],
 "metadata": {
  "kernelspec": {
   "display_name": "Python 3",
   "language": "python",
   "name": "python3"
  },
  "language_info": {
   "codemirror_mode": {
    "name": "ipython",
    "version": 3
   },
   "file_extension": ".py",
   "mimetype": "text/x-python",
   "name": "python",
   "nbconvert_exporter": "python",
   "pygments_lexer": "ipython3",
   "version": "3.8.3"
  }
 },
 "nbformat": 4,
 "nbformat_minor": 4
}
