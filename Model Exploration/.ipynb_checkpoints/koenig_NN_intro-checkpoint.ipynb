{
 "cells": [
  {
   "cell_type": "code",
   "execution_count": 1,
   "metadata": {},
   "outputs": [],
   "source": [
    "import tensorflow as tf\n",
    "import pandas as pd\n",
    "from sklearn.model_selection import train_test_split\n",
    "from tensorflow.keras.layers import Dense\n",
    "import random\n",
    "import numpy as np\n",
    "import statistics"
   ]
  },
  {
   "cell_type": "code",
   "execution_count": 2,
   "metadata": {},
   "outputs": [],
   "source": [
    "data = pd.read_csv(\"../Data/Cleaned/from_kickstarter_reduced.csv\")"
   ]
  },
  {
   "cell_type": "code",
   "execution_count": 3,
   "metadata": {},
   "outputs": [
    {
     "data": {
      "text/html": [
       "<div>\n",
       "<style scoped>\n",
       "    .dataframe tbody tr th:only-of-type {\n",
       "        vertical-align: middle;\n",
       "    }\n",
       "\n",
       "    .dataframe tbody tr th {\n",
       "        vertical-align: top;\n",
       "    }\n",
       "\n",
       "    .dataframe thead th {\n",
       "        text-align: right;\n",
       "    }\n",
       "</style>\n",
       "<table border=\"1\" class=\"dataframe\">\n",
       "  <thead>\n",
       "    <tr style=\"text-align: right;\">\n",
       "      <th></th>\n",
       "      <th>Unnamed: 0</th>\n",
       "      <th>id</th>\n",
       "      <th>backers_count</th>\n",
       "      <th>goal</th>\n",
       "      <th>usd_pledged</th>\n",
       "      <th>static_usd_rate</th>\n",
       "      <th>year</th>\n",
       "      <th>month</th>\n",
       "      <th>day</th>\n",
       "      <th>hour</th>\n",
       "      <th>days_to_deadline</th>\n",
       "      <th>goal_USD</th>\n",
       "      <th>blurb_length</th>\n",
       "      <th>binary_state</th>\n",
       "    </tr>\n",
       "  </thead>\n",
       "  <tbody>\n",
       "    <tr>\n",
       "      <th>count</th>\n",
       "      <td>20000.000000</td>\n",
       "      <td>2.000000e+04</td>\n",
       "      <td>20000.000000</td>\n",
       "      <td>2.000000e+04</td>\n",
       "      <td>2.000000e+04</td>\n",
       "      <td>20000.000000</td>\n",
       "      <td>20000.00000</td>\n",
       "      <td>20000.000000</td>\n",
       "      <td>20000.000000</td>\n",
       "      <td>20000.0</td>\n",
       "      <td>20000.000000</td>\n",
       "      <td>2.000000e+04</td>\n",
       "      <td>20000.000000</td>\n",
       "      <td>20000.000000</td>\n",
       "    </tr>\n",
       "    <tr>\n",
       "      <th>mean</th>\n",
       "      <td>2041.475750</td>\n",
       "      <td>1.075254e+09</td>\n",
       "      <td>152.232300</td>\n",
       "      <td>3.516041e+04</td>\n",
       "      <td>1.267863e+04</td>\n",
       "      <td>1.007821</td>\n",
       "      <td>2015.56540</td>\n",
       "      <td>6.214750</td>\n",
       "      <td>15.108300</td>\n",
       "      <td>0.0</td>\n",
       "      <td>34.265650</td>\n",
       "      <td>2.991567e+04</td>\n",
       "      <td>18.924250</td>\n",
       "      <td>0.404950</td>\n",
       "    </tr>\n",
       "    <tr>\n",
       "      <th>std</th>\n",
       "      <td>1179.364453</td>\n",
       "      <td>6.207460e+08</td>\n",
       "      <td>1291.975501</td>\n",
       "      <td>4.486028e+05</td>\n",
       "      <td>8.967284e+04</td>\n",
       "      <td>0.232205</td>\n",
       "      <td>2.16923</td>\n",
       "      <td>3.383387</td>\n",
       "      <td>8.876334</td>\n",
       "      <td>0.0</td>\n",
       "      <td>12.348583</td>\n",
       "      <td>4.393059e+05</td>\n",
       "      <td>5.040167</td>\n",
       "      <td>0.490895</td>\n",
       "    </tr>\n",
       "    <tr>\n",
       "      <th>min</th>\n",
       "      <td>0.000000</td>\n",
       "      <td>3.923500e+04</td>\n",
       "      <td>0.000000</td>\n",
       "      <td>1.000000e+00</td>\n",
       "      <td>0.000000e+00</td>\n",
       "      <td>0.008786</td>\n",
       "      <td>2009.00000</td>\n",
       "      <td>1.000000</td>\n",
       "      <td>1.000000</td>\n",
       "      <td>0.0</td>\n",
       "      <td>1.000000</td>\n",
       "      <td>7.356343e-01</td>\n",
       "      <td>1.000000</td>\n",
       "      <td>0.000000</td>\n",
       "    </tr>\n",
       "    <tr>\n",
       "      <th>25%</th>\n",
       "      <td>1014.000000</td>\n",
       "      <td>5.357191e+08</td>\n",
       "      <td>2.000000</td>\n",
       "      <td>2.000000e+03</td>\n",
       "      <td>5.327022e+01</td>\n",
       "      <td>1.000000</td>\n",
       "      <td>2014.00000</td>\n",
       "      <td>3.000000</td>\n",
       "      <td>7.000000</td>\n",
       "      <td>0.0</td>\n",
       "      <td>30.000000</td>\n",
       "      <td>2.000000e+03</td>\n",
       "      <td>16.000000</td>\n",
       "      <td>0.000000</td>\n",
       "    </tr>\n",
       "    <tr>\n",
       "      <th>50%</th>\n",
       "      <td>2032.000000</td>\n",
       "      <td>1.076134e+09</td>\n",
       "      <td>17.000000</td>\n",
       "      <td>5.000000e+03</td>\n",
       "      <td>9.239855e+02</td>\n",
       "      <td>1.000000</td>\n",
       "      <td>2016.00000</td>\n",
       "      <td>6.000000</td>\n",
       "      <td>15.000000</td>\n",
       "      <td>0.0</td>\n",
       "      <td>30.000000</td>\n",
       "      <td>5.000000e+03</td>\n",
       "      <td>20.000000</td>\n",
       "      <td>0.000000</td>\n",
       "    </tr>\n",
       "    <tr>\n",
       "      <th>75%</th>\n",
       "      <td>3055.250000</td>\n",
       "      <td>1.613053e+09</td>\n",
       "      <td>70.000000</td>\n",
       "      <td>1.660775e+04</td>\n",
       "      <td>5.125750e+03</td>\n",
       "      <td>1.000000</td>\n",
       "      <td>2017.00000</td>\n",
       "      <td>9.000000</td>\n",
       "      <td>23.000000</td>\n",
       "      <td>0.0</td>\n",
       "      <td>38.000000</td>\n",
       "      <td>1.500000e+04</td>\n",
       "      <td>22.000000</td>\n",
       "      <td>1.000000</td>\n",
       "    </tr>\n",
       "    <tr>\n",
       "      <th>max</th>\n",
       "      <td>4095.000000</td>\n",
       "      <td>2.147431e+09</td>\n",
       "      <td>102203.000000</td>\n",
       "      <td>5.000000e+07</td>\n",
       "      <td>4.148577e+06</td>\n",
       "      <td>1.716408</td>\n",
       "      <td>2019.00000</td>\n",
       "      <td>12.000000</td>\n",
       "      <td>31.000000</td>\n",
       "      <td>0.0</td>\n",
       "      <td>92.000000</td>\n",
       "      <td>5.000000e+07</td>\n",
       "      <td>36.000000</td>\n",
       "      <td>1.000000</td>\n",
       "    </tr>\n",
       "  </tbody>\n",
       "</table>\n",
       "</div>"
      ],
      "text/plain": [
       "         Unnamed: 0            id  backers_count          goal   usd_pledged  \\\n",
       "count  20000.000000  2.000000e+04   20000.000000  2.000000e+04  2.000000e+04   \n",
       "mean    2041.475750  1.075254e+09     152.232300  3.516041e+04  1.267863e+04   \n",
       "std     1179.364453  6.207460e+08    1291.975501  4.486028e+05  8.967284e+04   \n",
       "min        0.000000  3.923500e+04       0.000000  1.000000e+00  0.000000e+00   \n",
       "25%     1014.000000  5.357191e+08       2.000000  2.000000e+03  5.327022e+01   \n",
       "50%     2032.000000  1.076134e+09      17.000000  5.000000e+03  9.239855e+02   \n",
       "75%     3055.250000  1.613053e+09      70.000000  1.660775e+04  5.125750e+03   \n",
       "max     4095.000000  2.147431e+09  102203.000000  5.000000e+07  4.148577e+06   \n",
       "\n",
       "       static_usd_rate         year         month           day     hour  \\\n",
       "count     20000.000000  20000.00000  20000.000000  20000.000000  20000.0   \n",
       "mean          1.007821   2015.56540      6.214750     15.108300      0.0   \n",
       "std           0.232205      2.16923      3.383387      8.876334      0.0   \n",
       "min           0.008786   2009.00000      1.000000      1.000000      0.0   \n",
       "25%           1.000000   2014.00000      3.000000      7.000000      0.0   \n",
       "50%           1.000000   2016.00000      6.000000     15.000000      0.0   \n",
       "75%           1.000000   2017.00000      9.000000     23.000000      0.0   \n",
       "max           1.716408   2019.00000     12.000000     31.000000      0.0   \n",
       "\n",
       "       days_to_deadline      goal_USD  blurb_length  binary_state  \n",
       "count      20000.000000  2.000000e+04  20000.000000  20000.000000  \n",
       "mean          34.265650  2.991567e+04     18.924250      0.404950  \n",
       "std           12.348583  4.393059e+05      5.040167      0.490895  \n",
       "min            1.000000  7.356343e-01      1.000000      0.000000  \n",
       "25%           30.000000  2.000000e+03     16.000000      0.000000  \n",
       "50%           30.000000  5.000000e+03     20.000000      0.000000  \n",
       "75%           38.000000  1.500000e+04     22.000000      1.000000  \n",
       "max           92.000000  5.000000e+07     36.000000      1.000000  "
      ]
     },
     "execution_count": 3,
     "metadata": {},
     "output_type": "execute_result"
    }
   ],
   "source": [
    "data.describe()"
   ]
  },
  {
   "cell_type": "code",
   "execution_count": 4,
   "metadata": {},
   "outputs": [],
   "source": [
    "num_to_delete = data[\"binary_state\"].value_counts()[0] - data[\"binary_state\"].value_counts()[1]\n",
    "failed_indices = data[data[\"binary_state\"] == 0].index\n",
    "i_failed_indices = random.sample(range(0, failed_indices.shape[0]), num_to_delete)\n",
    "indices_to_drop = []\n",
    "for index in i_failed_indices:\n",
    "    indices_to_drop.append(failed_indices[index])"
   ]
  },
  {
   "cell_type": "code",
   "execution_count": 5,
   "metadata": {},
   "outputs": [
    {
     "data": {
      "text/plain": [
       "(16198, 30)"
      ]
     },
     "execution_count": 5,
     "metadata": {},
     "output_type": "execute_result"
    }
   ],
   "source": [
    "data = data.drop(indices_to_drop)\n",
    "data.shape"
   ]
  },
  {
   "cell_type": "code",
   "execution_count": 6,
   "metadata": {},
   "outputs": [
    {
     "data": {
      "text/plain": [
       "count    16198.000000\n",
       "mean         0.500000\n",
       "std          0.500015\n",
       "min          0.000000\n",
       "25%          0.000000\n",
       "50%          0.500000\n",
       "75%          1.000000\n",
       "max          1.000000\n",
       "Name: binary_state, dtype: float64"
      ]
     },
     "execution_count": 6,
     "metadata": {},
     "output_type": "execute_result"
    }
   ],
   "source": [
    "data[\"binary_state\"].describe()"
   ]
  },
  {
   "cell_type": "code",
   "execution_count": 7,
   "metadata": {},
   "outputs": [
    {
     "data": {
      "text/plain": [
       "Index(['Unnamed: 0', 'id', 'backers_count', 'blurb', 'currency', 'goal',\n",
       "       'launched_at', 'deadline', 'location.country', 'name', 'usd_pledged',\n",
       "       'slug', 'spotlight', 'staff_pick', 'static_usd_rate', 'state', 'year',\n",
       "       'month', 'day', 'hour', 'days_to_deadline', 'goal_USD', 'category_name',\n",
       "       'category_slug', 'blurb_length', 'location_type', 'location_country',\n",
       "       'location_state', 'location_displayable_name', 'binary_state'],\n",
       "      dtype='object')"
      ]
     },
     "execution_count": 7,
     "metadata": {},
     "output_type": "execute_result"
    }
   ],
   "source": [
    "data.columns"
   ]
  },
  {
   "cell_type": "code",
   "execution_count": 8,
   "metadata": {},
   "outputs": [],
   "source": [
    "data.drop(['Unnamed: 0', 'id', 'day', 'hour', 'blurb', 'currency', 'launched_at', 'deadline', 'name', 'slug', 'state', 'location_displayable_name', 'location.country', 'location_state'], axis = 1, inplace = True)"
   ]
  },
  {
   "cell_type": "code",
   "execution_count": 9,
   "metadata": {},
   "outputs": [
    {
     "data": {
      "text/plain": [
       "Index(['backers_count', 'goal', 'usd_pledged', 'spotlight', 'staff_pick',\n",
       "       'static_usd_rate', 'year', 'month', 'days_to_deadline', 'goal_USD',\n",
       "       'category_name', 'category_slug', 'blurb_length', 'location_type',\n",
       "       'location_country', 'binary_state'],\n",
       "      dtype='object')"
      ]
     },
     "execution_count": 9,
     "metadata": {},
     "output_type": "execute_result"
    }
   ],
   "source": [
    "data.columns"
   ]
  },
  {
   "cell_type": "code",
   "execution_count": 10,
   "metadata": {},
   "outputs": [],
   "source": [
    "categorical_cols = ['location_country', 'category_name', 'category_slug', 'location_type']\n",
    "binary_categorical = ['spotlish', 'staff_pick']"
   ]
  },
  {
   "cell_type": "code",
   "execution_count": 11,
   "metadata": {},
   "outputs": [
    {
     "name": "stdout",
     "output_type": "stream",
     "text": [
      "location_country 118\n",
      "category_name 159\n",
      "category_slug 15\n",
      "location_type 8\n"
     ]
    }
   ],
   "source": [
    "for cat in categorical_cols:\n",
    "    print(cat, len(data[cat].unique()))"
   ]
  },
  {
   "cell_type": "code",
   "execution_count": 12,
   "metadata": {},
   "outputs": [],
   "source": [
    "data.drop(['location_country', 'category_name'], axis = 1, inplace = True)"
   ]
  },
  {
   "cell_type": "code",
   "execution_count": 13,
   "metadata": {},
   "outputs": [
    {
     "data": {
      "text/plain": [
       "backers_count         int64\n",
       "goal                float64\n",
       "usd_pledged         float64\n",
       "spotlight             int32\n",
       "staff_pick            int32\n",
       "static_usd_rate     float64\n",
       "year                  int64\n",
       "month                 int64\n",
       "days_to_deadline      int64\n",
       "goal_USD            float64\n",
       "category_slug        object\n",
       "blurb_length          int64\n",
       "location_type        object\n",
       "binary_state          int64\n",
       "dtype: object"
      ]
     },
     "execution_count": 13,
     "metadata": {},
     "output_type": "execute_result"
    }
   ],
   "source": [
    "data['spotlight'] = data['spotlight'].astype(int)\n",
    "data['staff_pick'] = data['staff_pick'].astype(int)\n",
    "data.dtypes"
   ]
  },
  {
   "cell_type": "code",
   "execution_count": 14,
   "metadata": {},
   "outputs": [
    {
     "data": {
      "text/plain": [
       "Index(['backers_count', 'goal', 'usd_pledged', 'spotlight', 'staff_pick',\n",
       "       'static_usd_rate', 'year', 'month', 'days_to_deadline', 'goal_USD',\n",
       "       'blurb_length', 'binary_state', 'category_slug_art',\n",
       "       'category_slug_comics', 'category_slug_crafts', 'category_slug_dance',\n",
       "       'category_slug_design', 'category_slug_fashion',\n",
       "       'category_slug_film & video', 'category_slug_food',\n",
       "       'category_slug_games', 'category_slug_journalism',\n",
       "       'category_slug_music', 'category_slug_photography',\n",
       "       'category_slug_publishing', 'category_slug_technology',\n",
       "       'category_slug_theater', 'location_type_Country',\n",
       "       'location_type_County', 'location_type_Island',\n",
       "       'location_type_LocalAdmin', 'location_type_Miscellaneous',\n",
       "       'location_type_Suburb', 'location_type_Town', 'location_type_Zip'],\n",
       "      dtype='object')"
      ]
     },
     "execution_count": 14,
     "metadata": {},
     "output_type": "execute_result"
    }
   ],
   "source": [
    "data = pd.get_dummies(data)\n",
    "data.columns"
   ]
  },
  {
   "cell_type": "code",
   "execution_count": 15,
   "metadata": {},
   "outputs": [
    {
     "data": {
      "text/plain": [
       "(16198, 35)"
      ]
     },
     "execution_count": 15,
     "metadata": {},
     "output_type": "execute_result"
    }
   ],
   "source": [
    "data.shape"
   ]
  },
  {
   "cell_type": "code",
   "execution_count": 16,
   "metadata": {},
   "outputs": [
    {
     "data": {
      "text/plain": [
       "0        0\n",
       "1        0\n",
       "3        0\n",
       "4        0\n",
       "5        1\n",
       "        ..\n",
       "19993    1\n",
       "19994    1\n",
       "19995    1\n",
       "19997    0\n",
       "19999    1\n",
       "Name: binary_state, Length: 16198, dtype: int64"
      ]
     },
     "execution_count": 16,
     "metadata": {},
     "output_type": "execute_result"
    }
   ],
   "source": [
    "df_y = data['binary_state']\n",
    "df_y"
   ]
  },
  {
   "cell_type": "code",
   "execution_count": 17,
   "metadata": {},
   "outputs": [
    {
     "data": {
      "text/plain": [
       "(16198, 34)"
      ]
     },
     "execution_count": 17,
     "metadata": {},
     "output_type": "execute_result"
    }
   ],
   "source": [
    "data.drop(['binary_state'], axis = 1, inplace = True)\n",
    "data.shape"
   ]
  },
  {
   "cell_type": "code",
   "execution_count": 18,
   "metadata": {},
   "outputs": [],
   "source": [
    "X = data.to_numpy()\n",
    "y = df_y.to_numpy()"
   ]
  },
  {
   "cell_type": "code",
   "execution_count": 19,
   "metadata": {},
   "outputs": [],
   "source": [
    "X_train, X_test, y_train, y_test = train_test_split(X, y, test_size = 0.2)"
   ]
  },
  {
   "cell_type": "code",
   "execution_count": 20,
   "metadata": {},
   "outputs": [
    {
     "name": "stdout",
     "output_type": "stream",
     "text": [
      "WARNING:tensorflow:From c:\\users\\quinn\\appdata\\local\\programs\\python\\python36\\lib\\site-packages\\tensorflow\\python\\ops\\resource_variable_ops.py:435: colocate_with (from tensorflow.python.framework.ops) is deprecated and will be removed in a future version.\n",
      "Instructions for updating:\n",
      "Colocations handled automatically by placer.\n"
     ]
    }
   ],
   "source": [
    "model = tf.keras.models.Sequential([\n",
    "  tf.keras.layers.Dense(34, input_dim = 34, activation = 'relu'),\n",
    "  tf.keras.layers.Dense(1, activation = 'sigmoid')\n",
    "])\n",
    "model.compile(optimizer = 'adam', loss = 'binary_crossentropy', metrics = ['accuracy'])"
   ]
  },
  {
   "cell_type": "code",
   "execution_count": 21,
   "metadata": {
    "scrolled": true
   },
   "outputs": [
    {
     "name": "stdout",
     "output_type": "stream",
     "text": [
      "WARNING:tensorflow:From c:\\users\\quinn\\appdata\\local\\programs\\python\\python36\\lib\\site-packages\\tensorflow\\python\\ops\\math_ops.py:3066: to_int32 (from tensorflow.python.ops.math_ops) is deprecated and will be removed in a future version.\n",
      "Instructions for updating:\n",
      "Use tf.cast instead.\n",
      "Epoch 1/10\n",
      "12958/12958 [==============================] - 0s 38us/sample - loss: 0.8945 - acc: 0.9426\n",
      "Epoch 2/10\n",
      "12958/12958 [==============================] - 0s 28us/sample - loss: 0.4486 - acc: 0.9705\n",
      "Epoch 3/10\n",
      "12958/12958 [==============================] - 0s 28us/sample - loss: 0.4101 - acc: 0.9724\n",
      "Epoch 4/10\n",
      "12958/12958 [==============================] - 0s 27us/sample - loss: 0.5740 - acc: 0.9629\n",
      "Epoch 5/10\n",
      "12958/12958 [==============================] - 0s 28us/sample - loss: 0.4525 - acc: 0.9704\n",
      "Epoch 6/10\n",
      "12958/12958 [==============================] - 0s 28us/sample - loss: 0.4927 - acc: 0.9680\n",
      "Epoch 7/10\n",
      "12958/12958 [==============================] - 0s 27us/sample - loss: 0.3999 - acc: 0.9738\n",
      "Epoch 8/10\n",
      "12958/12958 [==============================] - 0s 28us/sample - loss: 0.4361 - acc: 0.9714\n",
      "Epoch 9/10\n",
      "12958/12958 [==============================] - 0s 27us/sample - loss: 0.5594 - acc: 0.9637\n",
      "Epoch 10/10\n",
      "12958/12958 [==============================] - 0s 27us/sample - loss: 0.3404 - acc: 0.9779\n"
     ]
    }
   ],
   "source": [
    "hist = model.fit(X_train, y_train, epochs = 10, verbose = 1)"
   ]
  },
  {
   "cell_type": "code",
   "execution_count": 22,
   "metadata": {},
   "outputs": [
    {
     "name": "stdout",
     "output_type": "stream",
     "text": [
      "3240/3240 [==============================] - 0s 23us/sample - loss: 0.2143 - acc: 0.9852\n"
     ]
    },
    {
     "data": {
      "text/plain": [
       "[0.2142515224491747, 0.9851852]"
      ]
     },
     "execution_count": 22,
     "metadata": {},
     "output_type": "execute_result"
    }
   ],
   "source": [
    "model.evaluate(X_test, y_test)"
   ]
  },
  {
   "cell_type": "code",
   "execution_count": 35,
   "metadata": {},
   "outputs": [],
   "source": [
    "model = tf.keras.models.Sequential([\n",
    "  tf.keras.layers.Dense(34, input_dim = 34, activation = 'relu'),\n",
    "  tf.keras.layers.Dense(1, activation = 'sigmoid')\n",
    "])\n",
    "model.compile(optimizer = 'adam', loss = 'binary_crossentropy', metrics = ['accuracy'])"
   ]
  },
  {
   "cell_type": "code",
   "execution_count": 36,
   "metadata": {},
   "outputs": [],
   "source": [
    "def my_cross_val(model, X, y, k):\n",
    "    foldsX = np.array_split(X, k)\n",
    "    foldsY = np.array_split(y, k)\n",
    "\n",
    "    acc = []\n",
    "\n",
    "    for i in range(0, k):\n",
    "        testX = foldsX[i]\n",
    "        testY = foldsY[i]\n",
    "        train_arrays_X = np.delete(foldsX, i)\n",
    "        train_arrays_Y = np.delete(foldsY, i)\n",
    "\n",
    "        trainX = train_arrays_X[0]\n",
    "        trainY = train_arrays_Y[0]\n",
    "        for i in range (1, k-1):\n",
    "            trainX = np.concatenate((trainX, train_arrays_X[i]))\n",
    "            trainY = np.concatenate((trainY, train_arrays_Y[i]))\n",
    "\n",
    "        model.fit(trainX, trainY, epochs = 2, verbose = 1)\n",
    "        ret = model.evaluate(testX, testY)\n",
    "        acc.append(ret[1])\n",
    "    mean = 0\n",
    "    for a in acc:\n",
    "        mean += a\n",
    "    mean /= k\n",
    "    return {\"acc\": acc, \"mean\": mean}"
   ]
  },
  {
   "cell_type": "code",
   "execution_count": 37,
   "metadata": {},
   "outputs": [
    {
     "name": "stdout",
     "output_type": "stream",
     "text": [
      "Epoch 1/2\n",
      "12958/12958 [==============================] - 1s 39us/sample - loss: 3.3258 - acc: 0.7882\n",
      "Epoch 2/2\n",
      "12958/12958 [==============================] - 0s 28us/sample - loss: 0.5754 - acc: 0.9603\n",
      "3240/3240 [==============================] - 0s 29us/sample - loss: 0.4167 - acc: 0.9725\n",
      "Epoch 1/2\n",
      "12958/12958 [==============================] - 0s 28us/sample - loss: 0.4896 - acc: 0.9666\n",
      "Epoch 2/2\n",
      "12958/12958 [==============================] - 0s 27us/sample - loss: 0.3861 - acc: 0.9731\n",
      "3240/3240 [==============================] - 0s 12us/sample - loss: 0.3392 - acc: 0.9772\n",
      "Epoch 1/2\n",
      "12958/12958 [==============================] - 0s 28us/sample - loss: 0.6230 - acc: 0.9591\n",
      "Epoch 2/2\n",
      "12958/12958 [==============================] - 0s 28us/sample - loss: 0.5615 - acc: 0.9620\n",
      "3240/3240 [==============================] - 0s 12us/sample - loss: 0.3852 - acc: 0.9728\n",
      "Epoch 1/2\n",
      "12959/12959 [==============================] - 0s 29us/sample - loss: 0.3622 - acc: 0.9753\n",
      "Epoch 2/2\n",
      "12959/12959 [==============================] - 0s 28us/sample - loss: 0.3995 - acc: 0.9728\n",
      "3239/3239 [==============================] - 0s 12us/sample - loss: 0.3551 - acc: 0.9756\n",
      "Epoch 1/2\n",
      "12959/12959 [==============================] - 0s 28us/sample - loss: 0.5393 - acc: 0.9640\n",
      "Epoch 2/2\n",
      "12959/12959 [==============================] - 0s 29us/sample - loss: 0.3218 - acc: 0.9776\n",
      "3239/3239 [==============================] - 0s 12us/sample - loss: 0.2217 - acc: 0.9846\n"
     ]
    }
   ],
   "source": [
    "ret = my_cross_val(model, X, y, 5)"
   ]
  },
  {
   "cell_type": "code",
   "execution_count": 38,
   "metadata": {},
   "outputs": [
    {
     "data": {
      "text/plain": [
       "{'acc': [0.97253084, 0.9771605, 0.97283953, 0.9756098, 0.9845631],\n",
       " 'mean': 0.9765407562255859}"
      ]
     },
     "execution_count": 38,
     "metadata": {},
     "output_type": "execute_result"
    }
   ],
   "source": [
    "ret"
   ]
  },
  {
   "cell_type": "code",
   "execution_count": null,
   "metadata": {},
   "outputs": [],
   "source": []
  }
 ],
 "metadata": {
  "kernelspec": {
   "display_name": "Python 3",
   "language": "python",
   "name": "python3"
  },
  "language_info": {
   "codemirror_mode": {
    "name": "ipython",
    "version": 3
   },
   "file_extension": ".py",
   "mimetype": "text/x-python",
   "name": "python",
   "nbconvert_exporter": "python",
   "pygments_lexer": "ipython3",
   "version": "3.6.8"
  }
 },
 "nbformat": 4,
 "nbformat_minor": 4
}
