{
 "cells": [
  {
   "cell_type": "code",
   "execution_count": 18,
   "metadata": {},
   "outputs": [],
   "source": [
    "# Feature Extraction with RFE\n",
    "import pandas as pd\n",
    "import numpy as np\n",
    "\n",
    "from pandas import read_csv\n",
    "from sklearn.feature_selection import RFE\n",
    "from sklearn.linear_model import LogisticRegression"
   ]
  },
  {
   "cell_type": "code",
   "execution_count": 19,
   "metadata": {},
   "outputs": [],
   "source": [
    "# Importing data\n",
    "df_ks = pd.read_csv(\"../Data/Cleaned/generated_data.csv\")"
   ]
  },
  {
   "cell_type": "code",
   "execution_count": 20,
   "metadata": {},
   "outputs": [],
   "source": [
    "# Remove Text-based Description\n",
    "df_ks = df_ks.drop(columns=['blurb','name'])\n",
    "# Remove Redundant launch and deadline\n",
    "df_ks = df_ks.drop(columns=['launched','deadline'])\n",
    "\n",
    "\n",
    "# Encoding country\n",
    "df_ks = pd.get_dummies(df_ks, columns=['country'], prefix=['country'])\n",
    "# Encoding location_state\n",
    "df_ks = pd.get_dummies(df_ks, columns=['location_state'], prefix=['loc_state'])\n",
    "# Encoding Main_Category -- This is redundant, so remove if slow\n",
    "df_ks = pd.get_dummies(df_ks, columns=['main_category'], prefix=['main_category'])\n",
    "# Encoding Category\n",
    "df_ks = pd.get_dummies(df_ks, columns=['category'], prefix=['category'])\n",
    "\n",
    "# Looking at all features (except for text-based)\n",
    "feature_names = df_ks.drop(columns=['state']).columns\n",
    "X = df_ks[feature_names]\n",
    "Y = df_ks.state"
   ]
  },
  {
   "cell_type": "code",
   "execution_count": null,
   "metadata": {},
   "outputs": [],
   "source": [
    "# feature extraction\n",
    "model = LogisticRegression(solver='lbfgs')\n",
    "rfe = RFE(model, n_features_to_select=10)\n",
    "fit = rfe.fit(X, Y)\n",
    "print(\"Num Features: %d\" % fit.n_features_)\n",
    "print(\"Selected Features: %s\" % fit.support_)\n",
    "print(\"Feature Ranking: %s\" % fit.ranking_)"
   ]
  },
  {
   "cell_type": "code",
   "execution_count": null,
   "metadata": {},
   "outputs": [],
   "source": []
  }
 ],
 "metadata": {
  "kernelspec": {
   "display_name": "Python 3",
   "language": "python",
   "name": "python3"
  },
  "language_info": {
   "codemirror_mode": {
    "name": "ipython",
    "version": 3
   },
   "file_extension": ".py",
   "mimetype": "text/x-python",
   "name": "python",
   "nbconvert_exporter": "python",
   "pygments_lexer": "ipython3",
   "version": "3.8.3"
  }
 },
 "nbformat": 4,
 "nbformat_minor": 4
}
